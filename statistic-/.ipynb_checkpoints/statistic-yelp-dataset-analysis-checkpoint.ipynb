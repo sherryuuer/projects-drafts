{
 "cells": [
  {
   "cell_type": "markdown",
   "id": "29b80697-5467-4639-aaf0-5771071060e1",
   "metadata": {},
   "source": [
    "This dataset is a subset of Yelp's businesses, reviews, and user data. Conduct research or analysis on Yelp's data. In the most recent dataset you'll find information about businesses across 8 metropolitan areas in the USA and Canada.\n",
    "\n",
    "https://www.kaggle.com/datasets/yelp-dataset/yelp-dataset"
   ]
  },
  {
   "cell_type": "code",
   "execution_count": 1,
   "id": "a4b596a2-ba81-4bda-9251-b624a0591c56",
   "metadata": {},
   "outputs": [],
   "source": [
    "# import libraries\n",
    "import pandas as pd\n",
    "import numpy as np\n",
    "import scipy.stats as st"
   ]
  },
  {
   "cell_type": "code",
   "execution_count": 2,
   "id": "2a2cbcad-6591-4d91-ac06-e8d3abe6b1b7",
   "metadata": {},
   "outputs": [
    {
     "data": {
      "text/html": [
       "<div>\n",
       "<style scoped>\n",
       "    .dataframe tbody tr th:only-of-type {\n",
       "        vertical-align: middle;\n",
       "    }\n",
       "\n",
       "    .dataframe tbody tr th {\n",
       "        vertical-align: top;\n",
       "    }\n",
       "\n",
       "    .dataframe thead th {\n",
       "        text-align: right;\n",
       "    }\n",
       "</style>\n",
       "<table border=\"1\" class=\"dataframe\">\n",
       "  <thead>\n",
       "    <tr style=\"text-align: right;\">\n",
       "      <th></th>\n",
       "      <th>business_id</th>\n",
       "      <th>name</th>\n",
       "      <th>address</th>\n",
       "      <th>city</th>\n",
       "      <th>state</th>\n",
       "      <th>postal_code</th>\n",
       "      <th>latitude</th>\n",
       "      <th>longitude</th>\n",
       "      <th>stars</th>\n",
       "      <th>review_count</th>\n",
       "      <th>is_open</th>\n",
       "      <th>attributes</th>\n",
       "      <th>categories</th>\n",
       "      <th>hours</th>\n",
       "    </tr>\n",
       "  </thead>\n",
       "  <tbody>\n",
       "    <tr>\n",
       "      <th>0</th>\n",
       "      <td>Pns2l4eNsfO8kk83dixA6A</td>\n",
       "      <td>Abby Rappoport, LAC, CMQ</td>\n",
       "      <td>1616 Chapala St, Ste 2</td>\n",
       "      <td>Santa Barbara</td>\n",
       "      <td>CA</td>\n",
       "      <td>93101</td>\n",
       "      <td>34.426679</td>\n",
       "      <td>-119.711197</td>\n",
       "      <td>5.0</td>\n",
       "      <td>7</td>\n",
       "      <td>0</td>\n",
       "      <td>{'ByAppointmentOnly': 'True'}</td>\n",
       "      <td>Doctors, Traditional Chinese Medicine, Naturop...</td>\n",
       "      <td>None</td>\n",
       "    </tr>\n",
       "    <tr>\n",
       "      <th>1</th>\n",
       "      <td>mpf3x-BjTdTEA3yCZrAYPw</td>\n",
       "      <td>The UPS Store</td>\n",
       "      <td>87 Grasso Plaza Shopping Center</td>\n",
       "      <td>Affton</td>\n",
       "      <td>MO</td>\n",
       "      <td>63123</td>\n",
       "      <td>38.551126</td>\n",
       "      <td>-90.335695</td>\n",
       "      <td>3.0</td>\n",
       "      <td>15</td>\n",
       "      <td>1</td>\n",
       "      <td>{'BusinessAcceptsCreditCards': 'True'}</td>\n",
       "      <td>Shipping Centers, Local Services, Notaries, Ma...</td>\n",
       "      <td>{'Monday': '0:0-0:0', 'Tuesday': '8:0-18:30', ...</td>\n",
       "    </tr>\n",
       "    <tr>\n",
       "      <th>2</th>\n",
       "      <td>tUFrWirKiKi_TAnsVWINQQ</td>\n",
       "      <td>Target</td>\n",
       "      <td>5255 E Broadway Blvd</td>\n",
       "      <td>Tucson</td>\n",
       "      <td>AZ</td>\n",
       "      <td>85711</td>\n",
       "      <td>32.223236</td>\n",
       "      <td>-110.880452</td>\n",
       "      <td>3.5</td>\n",
       "      <td>22</td>\n",
       "      <td>0</td>\n",
       "      <td>{'BikeParking': 'True', 'BusinessAcceptsCredit...</td>\n",
       "      <td>Department Stores, Shopping, Fashion, Home &amp; G...</td>\n",
       "      <td>{'Monday': '8:0-22:0', 'Tuesday': '8:0-22:0', ...</td>\n",
       "    </tr>\n",
       "    <tr>\n",
       "      <th>3</th>\n",
       "      <td>MTSW4McQd7CbVtyjqoe9mw</td>\n",
       "      <td>St Honore Pastries</td>\n",
       "      <td>935 Race St</td>\n",
       "      <td>Philadelphia</td>\n",
       "      <td>PA</td>\n",
       "      <td>19107</td>\n",
       "      <td>39.955505</td>\n",
       "      <td>-75.155564</td>\n",
       "      <td>4.0</td>\n",
       "      <td>80</td>\n",
       "      <td>1</td>\n",
       "      <td>{'RestaurantsDelivery': 'False', 'OutdoorSeati...</td>\n",
       "      <td>Restaurants, Food, Bubble Tea, Coffee &amp; Tea, B...</td>\n",
       "      <td>{'Monday': '7:0-20:0', 'Tuesday': '7:0-20:0', ...</td>\n",
       "    </tr>\n",
       "    <tr>\n",
       "      <th>4</th>\n",
       "      <td>mWMc6_wTdE0EUBKIGXDVfA</td>\n",
       "      <td>Perkiomen Valley Brewery</td>\n",
       "      <td>101 Walnut St</td>\n",
       "      <td>Green Lane</td>\n",
       "      <td>PA</td>\n",
       "      <td>18054</td>\n",
       "      <td>40.338183</td>\n",
       "      <td>-75.471659</td>\n",
       "      <td>4.5</td>\n",
       "      <td>13</td>\n",
       "      <td>1</td>\n",
       "      <td>{'BusinessAcceptsCreditCards': 'True', 'Wheelc...</td>\n",
       "      <td>Brewpubs, Breweries, Food</td>\n",
       "      <td>{'Wednesday': '14:0-22:0', 'Thursday': '16:0-2...</td>\n",
       "    </tr>\n",
       "  </tbody>\n",
       "</table>\n",
       "</div>"
      ],
      "text/plain": [
       "              business_id                      name  \\\n",
       "0  Pns2l4eNsfO8kk83dixA6A  Abby Rappoport, LAC, CMQ   \n",
       "1  mpf3x-BjTdTEA3yCZrAYPw             The UPS Store   \n",
       "2  tUFrWirKiKi_TAnsVWINQQ                    Target   \n",
       "3  MTSW4McQd7CbVtyjqoe9mw        St Honore Pastries   \n",
       "4  mWMc6_wTdE0EUBKIGXDVfA  Perkiomen Valley Brewery   \n",
       "\n",
       "                           address           city state postal_code  \\\n",
       "0           1616 Chapala St, Ste 2  Santa Barbara    CA       93101   \n",
       "1  87 Grasso Plaza Shopping Center         Affton    MO       63123   \n",
       "2             5255 E Broadway Blvd         Tucson    AZ       85711   \n",
       "3                      935 Race St   Philadelphia    PA       19107   \n",
       "4                    101 Walnut St     Green Lane    PA       18054   \n",
       "\n",
       "    latitude   longitude  stars  review_count  is_open  \\\n",
       "0  34.426679 -119.711197    5.0             7        0   \n",
       "1  38.551126  -90.335695    3.0            15        1   \n",
       "2  32.223236 -110.880452    3.5            22        0   \n",
       "3  39.955505  -75.155564    4.0            80        1   \n",
       "4  40.338183  -75.471659    4.5            13        1   \n",
       "\n",
       "                                          attributes  \\\n",
       "0                      {'ByAppointmentOnly': 'True'}   \n",
       "1             {'BusinessAcceptsCreditCards': 'True'}   \n",
       "2  {'BikeParking': 'True', 'BusinessAcceptsCredit...   \n",
       "3  {'RestaurantsDelivery': 'False', 'OutdoorSeati...   \n",
       "4  {'BusinessAcceptsCreditCards': 'True', 'Wheelc...   \n",
       "\n",
       "                                          categories  \\\n",
       "0  Doctors, Traditional Chinese Medicine, Naturop...   \n",
       "1  Shipping Centers, Local Services, Notaries, Ma...   \n",
       "2  Department Stores, Shopping, Fashion, Home & G...   \n",
       "3  Restaurants, Food, Bubble Tea, Coffee & Tea, B...   \n",
       "4                          Brewpubs, Breweries, Food   \n",
       "\n",
       "                                               hours  \n",
       "0                                               None  \n",
       "1  {'Monday': '0:0-0:0', 'Tuesday': '8:0-18:30', ...  \n",
       "2  {'Monday': '8:0-22:0', 'Tuesday': '8:0-22:0', ...  \n",
       "3  {'Monday': '7:0-20:0', 'Tuesday': '7:0-20:0', ...  \n",
       "4  {'Wednesday': '14:0-22:0', 'Thursday': '16:0-2...  "
      ]
     },
     "execution_count": 2,
     "metadata": {},
     "output_type": "execute_result"
    }
   ],
   "source": [
    "# load the data\n",
    "df = pd.read_json(\"yelp_academic_dataset_business.json\", lines=True)\n",
    "df.head()"
   ]
  },
  {
   "cell_type": "code",
   "execution_count": 3,
   "id": "46da8a11-c82f-4bdf-916b-164e5b16ab35",
   "metadata": {},
   "outputs": [
    {
     "data": {
      "text/html": [
       "<div>\n",
       "<style scoped>\n",
       "    .dataframe tbody tr th:only-of-type {\n",
       "        vertical-align: middle;\n",
       "    }\n",
       "\n",
       "    .dataframe tbody tr th {\n",
       "        vertical-align: top;\n",
       "    }\n",
       "\n",
       "    .dataframe thead th {\n",
       "        text-align: right;\n",
       "    }\n",
       "</style>\n",
       "<table border=\"1\" class=\"dataframe\">\n",
       "  <thead>\n",
       "    <tr style=\"text-align: right;\">\n",
       "      <th></th>\n",
       "      <th>business_id</th>\n",
       "      <th>name</th>\n",
       "      <th>address</th>\n",
       "      <th>city</th>\n",
       "      <th>state</th>\n",
       "      <th>postal_code</th>\n",
       "      <th>latitude</th>\n",
       "      <th>longitude</th>\n",
       "      <th>stars</th>\n",
       "      <th>review_count</th>\n",
       "      <th>is_open</th>\n",
       "      <th>attributes</th>\n",
       "      <th>categories</th>\n",
       "      <th>hours</th>\n",
       "    </tr>\n",
       "  </thead>\n",
       "  <tbody>\n",
       "    <tr>\n",
       "      <th>3</th>\n",
       "      <td>MTSW4McQd7CbVtyjqoe9mw</td>\n",
       "      <td>St Honore Pastries</td>\n",
       "      <td>935 Race St</td>\n",
       "      <td>Philadelphia</td>\n",
       "      <td>PA</td>\n",
       "      <td>19107</td>\n",
       "      <td>39.955505</td>\n",
       "      <td>-75.155564</td>\n",
       "      <td>4.0</td>\n",
       "      <td>80</td>\n",
       "      <td>1</td>\n",
       "      <td>{'RestaurantsDelivery': 'False', 'OutdoorSeati...</td>\n",
       "      <td>Restaurants, Food, Bubble Tea, Coffee &amp; Tea, B...</td>\n",
       "      <td>{'Monday': '7:0-20:0', 'Tuesday': '7:0-20:0', ...</td>\n",
       "    </tr>\n",
       "    <tr>\n",
       "      <th>5</th>\n",
       "      <td>CF33F8-E6oudUQ46HnavjQ</td>\n",
       "      <td>Sonic Drive-In</td>\n",
       "      <td>615 S Main St</td>\n",
       "      <td>Ashland City</td>\n",
       "      <td>TN</td>\n",
       "      <td>37015</td>\n",
       "      <td>36.269593</td>\n",
       "      <td>-87.058943</td>\n",
       "      <td>2.0</td>\n",
       "      <td>6</td>\n",
       "      <td>1</td>\n",
       "      <td>{'BusinessParking': 'None', 'BusinessAcceptsCr...</td>\n",
       "      <td>Burgers, Fast Food, Sandwiches, Food, Ice Crea...</td>\n",
       "      <td>{'Monday': '0:0-0:0', 'Tuesday': '6:0-22:0', '...</td>\n",
       "    </tr>\n",
       "    <tr>\n",
       "      <th>8</th>\n",
       "      <td>k0hlBqXX-Bt0vf1op7Jr1w</td>\n",
       "      <td>Tsevi's Pub And Grill</td>\n",
       "      <td>8025 Mackenzie Rd</td>\n",
       "      <td>Affton</td>\n",
       "      <td>MO</td>\n",
       "      <td>63123</td>\n",
       "      <td>38.565165</td>\n",
       "      <td>-90.321087</td>\n",
       "      <td>3.0</td>\n",
       "      <td>19</td>\n",
       "      <td>0</td>\n",
       "      <td>{'Caters': 'True', 'Alcohol': 'u'full_bar'', '...</td>\n",
       "      <td>Pubs, Restaurants, Italian, Bars, American (Tr...</td>\n",
       "      <td>None</td>\n",
       "    </tr>\n",
       "    <tr>\n",
       "      <th>9</th>\n",
       "      <td>bBDDEgkFA1Otx9Lfe7BZUQ</td>\n",
       "      <td>Sonic Drive-In</td>\n",
       "      <td>2312 Dickerson Pike</td>\n",
       "      <td>Nashville</td>\n",
       "      <td>TN</td>\n",
       "      <td>37207</td>\n",
       "      <td>36.208102</td>\n",
       "      <td>-86.768170</td>\n",
       "      <td>1.5</td>\n",
       "      <td>10</td>\n",
       "      <td>1</td>\n",
       "      <td>{'RestaurantsAttire': ''casual'', 'Restaurants...</td>\n",
       "      <td>Ice Cream &amp; Frozen Yogurt, Fast Food, Burgers,...</td>\n",
       "      <td>{'Monday': '0:0-0:0', 'Tuesday': '6:0-21:0', '...</td>\n",
       "    </tr>\n",
       "    <tr>\n",
       "      <th>11</th>\n",
       "      <td>eEOYSgkmpB90uNA7lDOMRA</td>\n",
       "      <td>Vietnamese Food Truck</td>\n",
       "      <td></td>\n",
       "      <td>Tampa Bay</td>\n",
       "      <td>FL</td>\n",
       "      <td>33602</td>\n",
       "      <td>27.955269</td>\n",
       "      <td>-82.456320</td>\n",
       "      <td>4.0</td>\n",
       "      <td>10</td>\n",
       "      <td>1</td>\n",
       "      <td>{'Alcohol': ''none'', 'OutdoorSeating': 'None'...</td>\n",
       "      <td>Vietnamese, Food, Restaurants, Food Trucks</td>\n",
       "      <td>{'Monday': '11:0-14:0', 'Tuesday': '11:0-14:0'...</td>\n",
       "    </tr>\n",
       "  </tbody>\n",
       "</table>\n",
       "</div>"
      ],
      "text/plain": [
       "               business_id                   name              address  \\\n",
       "3   MTSW4McQd7CbVtyjqoe9mw     St Honore Pastries          935 Race St   \n",
       "5   CF33F8-E6oudUQ46HnavjQ         Sonic Drive-In        615 S Main St   \n",
       "8   k0hlBqXX-Bt0vf1op7Jr1w  Tsevi's Pub And Grill    8025 Mackenzie Rd   \n",
       "9   bBDDEgkFA1Otx9Lfe7BZUQ         Sonic Drive-In  2312 Dickerson Pike   \n",
       "11  eEOYSgkmpB90uNA7lDOMRA  Vietnamese Food Truck                        \n",
       "\n",
       "            city state postal_code   latitude  longitude  stars  review_count  \\\n",
       "3   Philadelphia    PA       19107  39.955505 -75.155564    4.0            80   \n",
       "5   Ashland City    TN       37015  36.269593 -87.058943    2.0             6   \n",
       "8         Affton    MO       63123  38.565165 -90.321087    3.0            19   \n",
       "9      Nashville    TN       37207  36.208102 -86.768170    1.5            10   \n",
       "11     Tampa Bay    FL       33602  27.955269 -82.456320    4.0            10   \n",
       "\n",
       "    is_open                                         attributes  \\\n",
       "3         1  {'RestaurantsDelivery': 'False', 'OutdoorSeati...   \n",
       "5         1  {'BusinessParking': 'None', 'BusinessAcceptsCr...   \n",
       "8         0  {'Caters': 'True', 'Alcohol': 'u'full_bar'', '...   \n",
       "9         1  {'RestaurantsAttire': ''casual'', 'Restaurants...   \n",
       "11        1  {'Alcohol': ''none'', 'OutdoorSeating': 'None'...   \n",
       "\n",
       "                                           categories  \\\n",
       "3   Restaurants, Food, Bubble Tea, Coffee & Tea, B...   \n",
       "5   Burgers, Fast Food, Sandwiches, Food, Ice Crea...   \n",
       "8   Pubs, Restaurants, Italian, Bars, American (Tr...   \n",
       "9   Ice Cream & Frozen Yogurt, Fast Food, Burgers,...   \n",
       "11         Vietnamese, Food, Restaurants, Food Trucks   \n",
       "\n",
       "                                                hours  \n",
       "3   {'Monday': '7:0-20:0', 'Tuesday': '7:0-20:0', ...  \n",
       "5   {'Monday': '0:0-0:0', 'Tuesday': '6:0-22:0', '...  \n",
       "8                                                None  \n",
       "9   {'Monday': '0:0-0:0', 'Tuesday': '6:0-21:0', '...  \n",
       "11  {'Monday': '11:0-14:0', 'Tuesday': '11:0-14:0'...  "
      ]
     },
     "execution_count": 3,
     "metadata": {},
     "output_type": "execute_result"
    }
   ],
   "source": [
    "# filter rows where the \"categories\" column contains the word \"Restaurants\"\n",
    "restaurant_df = df[df[\"categories\"].str.contains(\"Restaurants\", case=False, na=False)]\n",
    "\n",
    "restaurant_df.head()"
   ]
  },
  {
   "cell_type": "code",
   "execution_count": 5,
   "id": "27527f47-8ff7-4f66-9293-a75cdbf6ede9",
   "metadata": {},
   "outputs": [
    {
     "name": "stdout",
     "output_type": "stream",
     "text": [
      "RestaurantsPriceRange2\n",
      "DietaryRestrictions\n",
      "RestaurantsAttire\n",
      "Open24Hours\n",
      "BusinessAcceptsBitcoin\n",
      "Corkage\n",
      "HasTV\n",
      "NoiseLevel\n",
      "AcceptsInsurance\n",
      "RestaurantsCounterService\n",
      "DogsAllowed\n",
      "OutdoorSeating\n",
      "GoodForKids\n",
      "Ambience\n",
      "RestaurantsTakeOut\n",
      "WheelchairAccessible\n",
      "HairSpecializesIn\n",
      "RestaurantsDelivery\n",
      "RestaurantsGoodForGroups\n",
      "Caters\n",
      "RestaurantsReservations\n",
      "ByAppointmentOnly\n",
      "BestNights\n",
      "BusinessParking\n",
      "Music\n",
      "BYOBCorkage\n",
      "Alcohol\n",
      "HappyHour\n",
      "BikeParking\n",
      "RestaurantsTableService\n",
      "BusinessAcceptsCreditCards\n",
      "CoatCheck\n",
      "AgesAllowed\n",
      "Smoking\n",
      "GoodForMeal\n",
      "GoodForDancing\n",
      "DriveThru\n",
      "WiFi\n",
      "BYOB\n"
     ]
    }
   ],
   "source": [
    "# iterate over the attributes column and collect all unique keys\n",
    "unique_attributes = set()\n",
    "for attr in df[\"attributes\"].dropna():\n",
    "    unique_attributes.update(attr.keys())\n",
    "\n",
    "# print out\n",
    "unique_attributes_list = list(unique_attributes)\n",
    "for attr in unique_attributes_list:\n",
    "    print(attr)"
   ]
  },
  {
   "cell_type": "code",
   "execution_count": 6,
   "id": "97c8dcaa-a057-4fe7-a498-26f13b050c99",
   "metadata": {},
   "outputs": [],
   "source": [
    "# create a function to read the p-value\n",
    "def p_value_reader(p_value, alpha):\n",
    "    if p_value < alpha:\n",
    "        print(\"Reject the Null Hypothesis.\")\n",
    "    else:\n",
    "        print(\"Fail to reject the Null Hypothesis.\")"
   ]
  },
  {
   "cell_type": "markdown",
   "id": "aae98531-1b7e-483a-b9fa-c9a7f356494d",
   "metadata": {},
   "source": [
    "### Hypothesis 1: Restaurants that are open have better ratings than those that are not.\n",
    "\n",
    "Null Hypothesis: Open restaurants ratings <= Closed Restaurant ratings\n",
    "\n",
    "Alternative Hypothesis: Open restaurants ratings > Closed restaurant ratings\n",
    "\n",
    "(two sample test with a 1 tail)"
   ]
  },
  {
   "cell_type": "code",
   "execution_count": 7,
   "id": "d290d8ce-5cda-4f3a-953e-cce36bf0a18e",
   "metadata": {},
   "outputs": [],
   "source": [
    "# compare the length of the data\n",
    "open_rest_stars = restaurant_df[restaurant_df[\"is_open\"] == 1][\"stars\"]\n",
    "close_rest_stars = restaurant_df[restaurant_df[\"is_open\"] == 0][\"stars\"]"
   ]
  },
  {
   "cell_type": "code",
   "execution_count": 8,
   "id": "1e3bd211-87ee-46a1-8a34-3d225b30bb75",
   "metadata": {},
   "outputs": [
    {
     "data": {
      "text/plain": [
       "(3.523894589418927, 3.4975117180718707)"
      ]
     },
     "execution_count": 8,
     "metadata": {},
     "output_type": "execute_result"
    }
   ],
   "source": [
    "# check the mean\n",
    "open_rest_stars.mean(), close_rest_stars.mean()"
   ]
  },
  {
   "cell_type": "code",
   "execution_count": 9,
   "id": "a5cf606c-66aa-45cc-b304-0bc2b92b1fc8",
   "metadata": {},
   "outputs": [],
   "source": [
    "# function: performs 2 sample test based on the outcome of levene's test\n",
    "def test_2sample(sample1, sample2, alpha, alternative):\n",
    "    # levene's test\n",
    "    stat, p_value = st.levene(sample1, sample2)\n",
    "    # interpret the test\n",
    "    if p_value < alpha:\n",
    "        equal_var = False\n",
    "        print(\"Reject the Null Hypothesis. Variances are unequal. Perform Welch's test.\")\n",
    "    else:\n",
    "        equal_var = True\n",
    "        print(\"Fail to reject the Null Hypothesis.Variances are equal. Perform 2-sample t test.\")\n",
    "\n",
    "    # 2 sample test\n",
    "    t_stat, p_value = st.ttest_ind(\n",
    "        sample1,\n",
    "        sample2,\n",
    "        equal_var = equal_var,\n",
    "        alternative = alternative\n",
    "    )\n",
    "    print(f\"The p_value is {p_value}.\")\n",
    "    p_value_reader(p_value, alpha)"
   ]
  },
  {
   "cell_type": "code",
   "execution_count": 10,
   "id": "86155174-8cf7-4d38-a878-1ba424467bee",
   "metadata": {},
   "outputs": [
    {
     "name": "stdout",
     "output_type": "stream",
     "text": [
      "Reject the Null Hypothesis. Variances are unequal. Perform Welch's test.\n",
      "The p_value is 0.00017650010900392002.\n",
      "Reject the Null Hypothesis.\n"
     ]
    }
   ],
   "source": [
    "# apply the function\n",
    "test_2sample(open_rest_stars, close_rest_stars, 0.05, \"greater\")"
   ]
  },
  {
   "cell_type": "code",
   "execution_count": 11,
   "id": "53457aad-7efd-4d96-bcc1-610dbf9215f9",
   "metadata": {},
   "outputs": [
    {
     "data": {
      "text/plain": [
       "3         4.0\n",
       "5         2.0\n",
       "9         1.5\n",
       "11        4.0\n",
       "12        2.5\n",
       "         ... \n",
       "150323    4.5\n",
       "150325    3.0\n",
       "150327    4.0\n",
       "150336    4.5\n",
       "150339    4.5\n",
       "Name: stars, Length: 34987, dtype: float64"
      ]
     },
     "execution_count": 11,
     "metadata": {},
     "output_type": "execute_result"
    }
   ],
   "source": [
    "open_rest_stars"
   ]
  },
  {
   "cell_type": "markdown",
   "id": "f791d4bb-324d-4c11-90eb-2abda6976642",
   "metadata": {},
   "source": [
    "### Hypothesis 2: Restaurants that deliver food have worse ratings\n",
    "\n",
    "Null Hypothesis: Restaurants that deliver food ratings >= restaurants that don't deliver food ratings\n",
    "\n",
    "Alternative Hypothesis: Restaurants that deliver food ratings < restaurants that don't deliver food ratings\n",
    "\n",
    "(2 sample test with 1 tail)"
   ]
  },
  {
   "cell_type": "code",
   "execution_count": 12,
   "id": "94e6df36-0626-4fd0-bd84-0a737286d9cf",
   "metadata": {},
   "outputs": [],
   "source": [
    "# create a copy of the df\n",
    "df_h2 = restaurant_df.copy()"
   ]
  },
  {
   "cell_type": "code",
   "execution_count": 13,
   "id": "f0483443-203e-47ad-bc51-eeb5c4dd2338",
   "metadata": {},
   "outputs": [],
   "source": [
    "# define a function to extract the \"RestaurantsDelivery\" value\n",
    "def is_delivery(attributes):\n",
    "    if attributes and \"RestaurantsDelivery\" in attributes:\n",
    "        return attributes[\"RestaurantsDelivery\"] == \"True\"\n",
    "    return False\n",
    "\n",
    "# apply the function to the attributes column and create a new column delivery_food\n",
    "df_h2[\"delivery_food\"] = df_h2[\"attributes\"].apply(is_delivery)"
   ]
  },
  {
   "cell_type": "code",
   "execution_count": 14,
   "id": "8d9bb8ae-64d9-43b5-bd18-4a83a41b3842",
   "metadata": {},
   "outputs": [
    {
     "data": {
      "text/html": [
       "<div>\n",
       "<style scoped>\n",
       "    .dataframe tbody tr th:only-of-type {\n",
       "        vertical-align: middle;\n",
       "    }\n",
       "\n",
       "    .dataframe tbody tr th {\n",
       "        vertical-align: top;\n",
       "    }\n",
       "\n",
       "    .dataframe thead th {\n",
       "        text-align: right;\n",
       "    }\n",
       "</style>\n",
       "<table border=\"1\" class=\"dataframe\">\n",
       "  <thead>\n",
       "    <tr style=\"text-align: right;\">\n",
       "      <th></th>\n",
       "      <th>business_id</th>\n",
       "      <th>name</th>\n",
       "      <th>address</th>\n",
       "      <th>city</th>\n",
       "      <th>state</th>\n",
       "      <th>postal_code</th>\n",
       "      <th>latitude</th>\n",
       "      <th>longitude</th>\n",
       "      <th>stars</th>\n",
       "      <th>review_count</th>\n",
       "      <th>is_open</th>\n",
       "      <th>attributes</th>\n",
       "      <th>categories</th>\n",
       "      <th>hours</th>\n",
       "      <th>delivery_food</th>\n",
       "    </tr>\n",
       "  </thead>\n",
       "  <tbody>\n",
       "    <tr>\n",
       "      <th>3</th>\n",
       "      <td>MTSW4McQd7CbVtyjqoe9mw</td>\n",
       "      <td>St Honore Pastries</td>\n",
       "      <td>935 Race St</td>\n",
       "      <td>Philadelphia</td>\n",
       "      <td>PA</td>\n",
       "      <td>19107</td>\n",
       "      <td>39.955505</td>\n",
       "      <td>-75.155564</td>\n",
       "      <td>4.0</td>\n",
       "      <td>80</td>\n",
       "      <td>1</td>\n",
       "      <td>{'RestaurantsDelivery': 'False', 'OutdoorSeati...</td>\n",
       "      <td>Restaurants, Food, Bubble Tea, Coffee &amp; Tea, B...</td>\n",
       "      <td>{'Monday': '7:0-20:0', 'Tuesday': '7:0-20:0', ...</td>\n",
       "      <td>False</td>\n",
       "    </tr>\n",
       "    <tr>\n",
       "      <th>5</th>\n",
       "      <td>CF33F8-E6oudUQ46HnavjQ</td>\n",
       "      <td>Sonic Drive-In</td>\n",
       "      <td>615 S Main St</td>\n",
       "      <td>Ashland City</td>\n",
       "      <td>TN</td>\n",
       "      <td>37015</td>\n",
       "      <td>36.269593</td>\n",
       "      <td>-87.058943</td>\n",
       "      <td>2.0</td>\n",
       "      <td>6</td>\n",
       "      <td>1</td>\n",
       "      <td>{'BusinessParking': 'None', 'BusinessAcceptsCr...</td>\n",
       "      <td>Burgers, Fast Food, Sandwiches, Food, Ice Crea...</td>\n",
       "      <td>{'Monday': '0:0-0:0', 'Tuesday': '6:0-22:0', '...</td>\n",
       "      <td>True</td>\n",
       "    </tr>\n",
       "    <tr>\n",
       "      <th>8</th>\n",
       "      <td>k0hlBqXX-Bt0vf1op7Jr1w</td>\n",
       "      <td>Tsevi's Pub And Grill</td>\n",
       "      <td>8025 Mackenzie Rd</td>\n",
       "      <td>Affton</td>\n",
       "      <td>MO</td>\n",
       "      <td>63123</td>\n",
       "      <td>38.565165</td>\n",
       "      <td>-90.321087</td>\n",
       "      <td>3.0</td>\n",
       "      <td>19</td>\n",
       "      <td>0</td>\n",
       "      <td>{'Caters': 'True', 'Alcohol': 'u'full_bar'', '...</td>\n",
       "      <td>Pubs, Restaurants, Italian, Bars, American (Tr...</td>\n",
       "      <td>None</td>\n",
       "      <td>False</td>\n",
       "    </tr>\n",
       "    <tr>\n",
       "      <th>9</th>\n",
       "      <td>bBDDEgkFA1Otx9Lfe7BZUQ</td>\n",
       "      <td>Sonic Drive-In</td>\n",
       "      <td>2312 Dickerson Pike</td>\n",
       "      <td>Nashville</td>\n",
       "      <td>TN</td>\n",
       "      <td>37207</td>\n",
       "      <td>36.208102</td>\n",
       "      <td>-86.768170</td>\n",
       "      <td>1.5</td>\n",
       "      <td>10</td>\n",
       "      <td>1</td>\n",
       "      <td>{'RestaurantsAttire': ''casual'', 'Restaurants...</td>\n",
       "      <td>Ice Cream &amp; Frozen Yogurt, Fast Food, Burgers,...</td>\n",
       "      <td>{'Monday': '0:0-0:0', 'Tuesday': '6:0-21:0', '...</td>\n",
       "      <td>True</td>\n",
       "    </tr>\n",
       "    <tr>\n",
       "      <th>11</th>\n",
       "      <td>eEOYSgkmpB90uNA7lDOMRA</td>\n",
       "      <td>Vietnamese Food Truck</td>\n",
       "      <td></td>\n",
       "      <td>Tampa Bay</td>\n",
       "      <td>FL</td>\n",
       "      <td>33602</td>\n",
       "      <td>27.955269</td>\n",
       "      <td>-82.456320</td>\n",
       "      <td>4.0</td>\n",
       "      <td>10</td>\n",
       "      <td>1</td>\n",
       "      <td>{'Alcohol': ''none'', 'OutdoorSeating': 'None'...</td>\n",
       "      <td>Vietnamese, Food, Restaurants, Food Trucks</td>\n",
       "      <td>{'Monday': '11:0-14:0', 'Tuesday': '11:0-14:0'...</td>\n",
       "      <td>False</td>\n",
       "    </tr>\n",
       "  </tbody>\n",
       "</table>\n",
       "</div>"
      ],
      "text/plain": [
       "               business_id                   name              address  \\\n",
       "3   MTSW4McQd7CbVtyjqoe9mw     St Honore Pastries          935 Race St   \n",
       "5   CF33F8-E6oudUQ46HnavjQ         Sonic Drive-In        615 S Main St   \n",
       "8   k0hlBqXX-Bt0vf1op7Jr1w  Tsevi's Pub And Grill    8025 Mackenzie Rd   \n",
       "9   bBDDEgkFA1Otx9Lfe7BZUQ         Sonic Drive-In  2312 Dickerson Pike   \n",
       "11  eEOYSgkmpB90uNA7lDOMRA  Vietnamese Food Truck                        \n",
       "\n",
       "            city state postal_code   latitude  longitude  stars  review_count  \\\n",
       "3   Philadelphia    PA       19107  39.955505 -75.155564    4.0            80   \n",
       "5   Ashland City    TN       37015  36.269593 -87.058943    2.0             6   \n",
       "8         Affton    MO       63123  38.565165 -90.321087    3.0            19   \n",
       "9      Nashville    TN       37207  36.208102 -86.768170    1.5            10   \n",
       "11     Tampa Bay    FL       33602  27.955269 -82.456320    4.0            10   \n",
       "\n",
       "    is_open                                         attributes  \\\n",
       "3         1  {'RestaurantsDelivery': 'False', 'OutdoorSeati...   \n",
       "5         1  {'BusinessParking': 'None', 'BusinessAcceptsCr...   \n",
       "8         0  {'Caters': 'True', 'Alcohol': 'u'full_bar'', '...   \n",
       "9         1  {'RestaurantsAttire': ''casual'', 'Restaurants...   \n",
       "11        1  {'Alcohol': ''none'', 'OutdoorSeating': 'None'...   \n",
       "\n",
       "                                           categories  \\\n",
       "3   Restaurants, Food, Bubble Tea, Coffee & Tea, B...   \n",
       "5   Burgers, Fast Food, Sandwiches, Food, Ice Crea...   \n",
       "8   Pubs, Restaurants, Italian, Bars, American (Tr...   \n",
       "9   Ice Cream & Frozen Yogurt, Fast Food, Burgers,...   \n",
       "11         Vietnamese, Food, Restaurants, Food Trucks   \n",
       "\n",
       "                                                hours  delivery_food  \n",
       "3   {'Monday': '7:0-20:0', 'Tuesday': '7:0-20:0', ...          False  \n",
       "5   {'Monday': '0:0-0:0', 'Tuesday': '6:0-22:0', '...           True  \n",
       "8                                                None          False  \n",
       "9   {'Monday': '0:0-0:0', 'Tuesday': '6:0-21:0', '...           True  \n",
       "11  {'Monday': '11:0-14:0', 'Tuesday': '11:0-14:0'...          False  "
      ]
     },
     "execution_count": 14,
     "metadata": {},
     "output_type": "execute_result"
    }
   ],
   "source": [
    "df_h2.head()"
   ]
  },
  {
   "cell_type": "code",
   "execution_count": 15,
   "id": "3ae6f67c-8e32-4666-a7d0-f1d2fb07c0cb",
   "metadata": {},
   "outputs": [],
   "source": [
    "# star rating for delivery and non delivery restaurants\n",
    "delivery_stars = df_h2[df_h2[\"delivery_food\"] == True][\"stars\"]\n",
    "non_delivery_stars = df_h2[df_h2[\"delivery_food\"] == False][\"stars\"]"
   ]
  },
  {
   "cell_type": "code",
   "execution_count": 16,
   "id": "fcc95ef4-1fc5-4916-b3f3-9d7d61d29dba",
   "metadata": {},
   "outputs": [
    {
     "data": {
      "text/plain": [
       "(3.406033450640351, 3.6369358429467717)"
      ]
     },
     "execution_count": 16,
     "metadata": {},
     "output_type": "execute_result"
    }
   ],
   "source": [
    "# check the mean\n",
    "delivery_stars.mean(), non_delivery_stars.mean()"
   ]
  },
  {
   "cell_type": "code",
   "execution_count": 17,
   "id": "b0138977-30ed-4355-babf-540811fc3af8",
   "metadata": {},
   "outputs": [
    {
     "name": "stdout",
     "output_type": "stream",
     "text": [
      "Reject the Null Hypothesis. Variances are unequal. Perform Welch's test.\n",
      "The p_value is 3.1154302069409457e-227.\n",
      "Reject the Null Hypothesis.\n"
     ]
    }
   ],
   "source": [
    "# apply the test function\n",
    "test_2sample(delivery_stars, non_delivery_stars, 0.05, \"less\")"
   ]
  },
  {
   "cell_type": "markdown",
   "id": "f29b5e3e-77a3-4cf1-b2ce-673473c132eb",
   "metadata": {},
   "source": [
    "### Hypothesis 3: Restaurants that allow smoking are less likely to be open\n",
    "\n",
    "Null Hypothesis: There is no relationship between the variables\n",
    "\n",
    "Alternative Hypothesis: Restaurants that allow smoking are less likely to be open\n",
    "\n",
    "(chisquare test)"
   ]
  },
  {
   "cell_type": "code",
   "execution_count": 18,
   "id": "f2ad68f6-f7ea-474d-80d6-4ba6d028bff7",
   "metadata": {},
   "outputs": [],
   "source": [
    "# create a copy of df\n",
    "df_h3 = restaurant_df.copy()"
   ]
  },
  {
   "cell_type": "code",
   "execution_count": 19,
   "id": "fdc8090d-25dc-423f-a6c9-cbb7803f3d9d",
   "metadata": {},
   "outputs": [],
   "source": [
    "# assuming the attributes for smoking is in a dictionary and \"True\" indicates smoking is allowed\n",
    "df_h3[\"allow_smoking\"] = df_h3[\"attributes\"].apply(lambda x: x.get(\"Smoking\") == \"True\" if x else False)"
   ]
  },
  {
   "cell_type": "code",
   "execution_count": 23,
   "id": "7804f49a-d60a-4bac-b493-d5f69a2c1974",
   "metadata": {},
   "outputs": [
    {
     "data": {
      "text/plain": [
       "Index(['business_id', 'name', 'address', 'city', 'state', 'postal_code',\n",
       "       'latitude', 'longitude', 'stars', 'review_count', 'is_open',\n",
       "       'attributes', 'categories', 'hours', 'allow_smoking'],\n",
       "      dtype='object')"
      ]
     },
     "execution_count": 23,
     "metadata": {},
     "output_type": "execute_result"
    }
   ],
   "source": [
    "df_h3.columns"
   ]
  },
  {
   "cell_type": "code",
   "execution_count": 24,
   "id": "3358182f-358c-4702-b89b-3a1bbd3b07c0",
   "metadata": {},
   "outputs": [
    {
     "name": "stdout",
     "output_type": "stream",
     "text": [
      "is_open            0      1\n",
      "allow_smoking              \n",
      "False          17281  34987\n"
     ]
    }
   ],
   "source": [
    "# create a contingency table to observe the frequency distribution between the smoking\n",
    "contingency_table = pd.crosstab(df_h3[\"allow_smoking\"], df_h3[\"is_open\"])\n",
    "print(contingency_table)"
   ]
  },
  {
   "cell_type": "code",
   "execution_count": 25,
   "id": "156f49b7-8c95-4f99-a345-a892e816b741",
   "metadata": {},
   "outputs": [
    {
     "name": "stdout",
     "output_type": "stream",
     "text": [
      "The p-value is 1.0\n",
      "Fail to reject the Null Hypothesis.\n"
     ]
    }
   ],
   "source": [
    "# Chi Square Test\n",
    "stat, p_value, dof, expected_freq = st.chi2_contingency(observed = contingency_table)\n",
    "\n",
    "# Print and interpret the p_value\n",
    "print(f\"The p-value is {p_value}\")\n",
    "p_value_reader(p_value, 0.05)"
   ]
  },
  {
   "cell_type": "code",
   "execution_count": null,
   "id": "adf8baa1-7bde-48af-9def-801aea582f38",
   "metadata": {},
   "outputs": [],
   "source": []
  }
 ],
 "metadata": {
  "kernelspec": {
   "display_name": "Python 3 (ipykernel)",
   "language": "python",
   "name": "python3"
  },
  "language_info": {
   "codemirror_mode": {
    "name": "ipython",
    "version": 3
   },
   "file_extension": ".py",
   "mimetype": "text/x-python",
   "name": "python",
   "nbconvert_exporter": "python",
   "pygments_lexer": "ipython3",
   "version": "3.11.5"
  }
 },
 "nbformat": 4,
 "nbformat_minor": 5
}
