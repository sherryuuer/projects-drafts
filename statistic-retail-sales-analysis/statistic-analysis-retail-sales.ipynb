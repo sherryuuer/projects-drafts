{
 "cells": [
  {
   "cell_type": "markdown",
   "id": "c9c4c5b5-157c-4b4b-8968-7e5e1d5efb25",
   "metadata": {},
   "source": [
    "### steps:\n",
    "- load data\n",
    "- data info\n",
    "- get statistic info\n",
    "- split data\n",
    "- create model\n",
    "- train model\n",
    "- predict data"
   ]
  },
  {
   "cell_type": "code",
   "execution_count": 3,
   "id": "2e080133-e021-420d-9a82-8233802bfa68",
   "metadata": {},
   "outputs": [
    {
     "name": "stdout",
     "output_type": "stream",
     "text": [
      "Collecting statsmodels\n",
      "  Downloading statsmodels-0.14.1-cp311-cp311-macosx_11_0_arm64.whl.metadata (9.5 kB)\n",
      "Requirement already satisfied: numpy<2,>=1.18 in /Users/sallyw/machine-learning-lab/mlztm/env/lib/python3.11/site-packages (from statsmodels) (1.26.2)\n",
      "Requirement already satisfied: scipy!=1.9.2,>=1.4 in /Users/sallyw/machine-learning-lab/mlztm/env/lib/python3.11/site-packages (from statsmodels) (1.11.4)\n",
      "Requirement already satisfied: pandas!=2.1.0,>=1.0 in /Users/sallyw/machine-learning-lab/mlztm/env/lib/python3.11/site-packages (from statsmodels) (2.1.4)\n",
      "Collecting patsy>=0.5.4 (from statsmodels)\n",
      "  Downloading patsy-0.5.6-py2.py3-none-any.whl.metadata (3.5 kB)\n",
      "Requirement already satisfied: packaging>=21.3 in /Users/sallyw/machine-learning-lab/mlztm/env/lib/python3.11/site-packages (from statsmodels) (23.1)\n",
      "Requirement already satisfied: python-dateutil>=2.8.2 in /Users/sallyw/machine-learning-lab/mlztm/env/lib/python3.11/site-packages (from pandas!=2.1.0,>=1.0->statsmodels) (2.8.2)\n",
      "Requirement already satisfied: pytz>=2020.1 in /Users/sallyw/machine-learning-lab/mlztm/env/lib/python3.11/site-packages (from pandas!=2.1.0,>=1.0->statsmodels) (2023.3.post1)\n",
      "Requirement already satisfied: tzdata>=2022.1 in /Users/sallyw/machine-learning-lab/mlztm/env/lib/python3.11/site-packages (from pandas!=2.1.0,>=1.0->statsmodels) (2023.3)\n",
      "Requirement already satisfied: six in /Users/sallyw/machine-learning-lab/mlztm/env/lib/python3.11/site-packages (from patsy>=0.5.4->statsmodels) (1.16.0)\n",
      "Downloading statsmodels-0.14.1-cp311-cp311-macosx_11_0_arm64.whl (10.1 MB)\n",
      "\u001b[2K   \u001b[90m━━━━━━━━━━━━━━━━━━━━━━━━━━━━━━━━━━━━━━━━\u001b[0m \u001b[32m10.1/10.1 MB\u001b[0m \u001b[31m7.3 MB/s\u001b[0m eta \u001b[36m0:00:00\u001b[0m00:01\u001b[0m0:01\u001b[0m\n",
      "\u001b[?25hDownloading patsy-0.5.6-py2.py3-none-any.whl (233 kB)\n",
      "\u001b[2K   \u001b[90m━━━━━━━━━━━━━━━━━━━━━━━━━━━━━━━━━━━━━━━━\u001b[0m \u001b[32m233.9/233.9 kB\u001b[0m \u001b[31m5.1 MB/s\u001b[0m eta \u001b[36m0:00:00\u001b[0ma \u001b[36m0:00:01\u001b[0m\n",
      "\u001b[?25hInstalling collected packages: patsy, statsmodels\n",
      "Successfully installed patsy-0.5.6 statsmodels-0.14.1\n"
     ]
    }
   ],
   "source": [
    "!pip install statsmodels"
   ]
  },
  {
   "cell_type": "code",
   "execution_count": 4,
   "id": "415b60fa-c24d-4df0-b83b-967bcb8f1019",
   "metadata": {},
   "outputs": [],
   "source": [
    "# libraries\n",
    "import pandas as pd\n",
    "import numpy as np\n",
    "import statsmodels.api as sm\n",
    "import seaborn as sns"
   ]
  },
  {
   "cell_type": "code",
   "execution_count": 5,
   "id": "e9292fd0-7854-4aca-9ad5-1659c354baec",
   "metadata": {},
   "outputs": [
    {
     "data": {
      "text/html": [
       "<div>\n",
       "<style scoped>\n",
       "    .dataframe tbody tr th:only-of-type {\n",
       "        vertical-align: middle;\n",
       "    }\n",
       "\n",
       "    .dataframe tbody tr th {\n",
       "        vertical-align: top;\n",
       "    }\n",
       "\n",
       "    .dataframe thead th {\n",
       "        text-align: right;\n",
       "    }\n",
       "</style>\n",
       "<table border=\"1\" class=\"dataframe\">\n",
       "  <thead>\n",
       "    <tr style=\"text-align: right;\">\n",
       "      <th></th>\n",
       "      <th>tsales</th>\n",
       "      <th>sales</th>\n",
       "      <th>margin</th>\n",
       "      <th>nown</th>\n",
       "      <th>nfull</th>\n",
       "      <th>npart</th>\n",
       "      <th>naux</th>\n",
       "      <th>hoursw</th>\n",
       "      <th>hourspw</th>\n",
       "      <th>inv1</th>\n",
       "      <th>inv2</th>\n",
       "      <th>ssize</th>\n",
       "      <th>start</th>\n",
       "    </tr>\n",
       "  </thead>\n",
       "  <tbody>\n",
       "    <tr>\n",
       "      <th>0</th>\n",
       "      <td>750000</td>\n",
       "      <td>4411.765</td>\n",
       "      <td>41.0</td>\n",
       "      <td>1.0</td>\n",
       "      <td>1.0000</td>\n",
       "      <td>1.0000</td>\n",
       "      <td>1.5357</td>\n",
       "      <td>76</td>\n",
       "      <td>16.75596</td>\n",
       "      <td>17166.67</td>\n",
       "      <td>27177.04</td>\n",
       "      <td>170</td>\n",
       "      <td>41.0</td>\n",
       "    </tr>\n",
       "    <tr>\n",
       "      <th>1</th>\n",
       "      <td>1926395</td>\n",
       "      <td>4280.878</td>\n",
       "      <td>39.0</td>\n",
       "      <td>2.0</td>\n",
       "      <td>2.0000</td>\n",
       "      <td>3.0000</td>\n",
       "      <td>1.5357</td>\n",
       "      <td>192</td>\n",
       "      <td>22.49376</td>\n",
       "      <td>17166.67</td>\n",
       "      <td>27177.04</td>\n",
       "      <td>450</td>\n",
       "      <td>39.0</td>\n",
       "    </tr>\n",
       "    <tr>\n",
       "      <th>2</th>\n",
       "      <td>1250000</td>\n",
       "      <td>4166.667</td>\n",
       "      <td>40.0</td>\n",
       "      <td>1.0</td>\n",
       "      <td>2.0000</td>\n",
       "      <td>2.2222</td>\n",
       "      <td>1.4091</td>\n",
       "      <td>114</td>\n",
       "      <td>17.19120</td>\n",
       "      <td>292857.20</td>\n",
       "      <td>71570.55</td>\n",
       "      <td>300</td>\n",
       "      <td>40.0</td>\n",
       "    </tr>\n",
       "    <tr>\n",
       "      <th>3</th>\n",
       "      <td>694227</td>\n",
       "      <td>2670.104</td>\n",
       "      <td>40.0</td>\n",
       "      <td>1.0</td>\n",
       "      <td>1.0000</td>\n",
       "      <td>1.2833</td>\n",
       "      <td>1.3673</td>\n",
       "      <td>100</td>\n",
       "      <td>21.50260</td>\n",
       "      <td>22207.04</td>\n",
       "      <td>15000.00</td>\n",
       "      <td>260</td>\n",
       "      <td>40.0</td>\n",
       "    </tr>\n",
       "    <tr>\n",
       "      <th>4</th>\n",
       "      <td>750000</td>\n",
       "      <td>15000.000</td>\n",
       "      <td>44.0</td>\n",
       "      <td>2.0</td>\n",
       "      <td>1.9556</td>\n",
       "      <td>1.2833</td>\n",
       "      <td>1.3673</td>\n",
       "      <td>104</td>\n",
       "      <td>15.74279</td>\n",
       "      <td>22207.04</td>\n",
       "      <td>10000.00</td>\n",
       "      <td>50</td>\n",
       "      <td>44.0</td>\n",
       "    </tr>\n",
       "  </tbody>\n",
       "</table>\n",
       "</div>"
      ],
      "text/plain": [
       "    tsales      sales  margin  nown   nfull   npart    naux  hoursw   hourspw  \\\n",
       "0   750000   4411.765    41.0   1.0  1.0000  1.0000  1.5357      76  16.75596   \n",
       "1  1926395   4280.878    39.0   2.0  2.0000  3.0000  1.5357     192  22.49376   \n",
       "2  1250000   4166.667    40.0   1.0  2.0000  2.2222  1.4091     114  17.19120   \n",
       "3   694227   2670.104    40.0   1.0  1.0000  1.2833  1.3673     100  21.50260   \n",
       "4   750000  15000.000    44.0   2.0  1.9556  1.2833  1.3673     104  15.74279   \n",
       "\n",
       "        inv1      inv2  ssize  start  \n",
       "0   17166.67  27177.04    170   41.0  \n",
       "1   17166.67  27177.04    450   39.0  \n",
       "2  292857.20  71570.55    300   40.0  \n",
       "3   22207.04  15000.00    260   40.0  \n",
       "4   22207.04  10000.00     50   44.0  "
      ]
     },
     "execution_count": 5,
     "metadata": {},
     "output_type": "execute_result"
    }
   ],
   "source": [
    "# load model\n",
    "data = pd.read_csv('Clothing.csv')\n",
    "data.head()"
   ]
  },
  {
   "cell_type": "markdown",
   "id": "abe6bbd3-7b42-4f1c-a459-33038a1cef1b",
   "metadata": {},
   "source": [
    "### features\n",
    "\n",
    "**tsales** | 年销售额（荷兰盾）\n",
    "\n",
    "**sales** | 每平方米销售额。这是零售商店的关键指标，表示每单位楼层面积产生的收入。\n",
    "\n",
    "**margin** | 毛利率。这代表了扣除商品成本后的利润占销售收入的百分比。\n",
    "\n",
    "**nown** | 所有者（经理）人数。这表示拥有和管理商店的个人数量。\n",
    "\n",
    "**nfull** | 全职员工人数。这代表在商店工作满时的员工人数。\n",
    "\n",
    "**npart** | 兼职员工人数。这代表在商店工作兼职的员工人数。\n",
    "\n",
    "**naux** | 帮工（临时工）人数。这代表商店雇用的临时工或临时工人数。\n",
    "\n",
    "**hoursw** | 总工作时数。这是所有员工在特定时期内在商店工作的所有小时数。\n",
    "\n",
    "**hourspw** | 每位员工的工作时数。这是特定时期内每位员工在商店工作的平均小时数。可以通过将总工作时数 (hoursw) 除以员工总数 (nfull + npart + naux) 来计算。\n",
    "\n",
    "**inv1** | 店面投资。这代表对实体店面或位置的财务投资。\n",
    "\n",
    "**inv2** | 自动化投资。这代表对店内使用的自动化设备或技术的财务投资。\n",
    "\n",
    "**ssize** | 商店营业面积（平方米）。这是商店用于展示产品和服务客户的总面积。\n",
    "\n",
    "**start** | 营业开始年份。这表示商店开始运营的年份。\n"
   ]
  },
  {
   "cell_type": "code",
   "execution_count": 6,
   "id": "e45b2f26-8d56-4e60-93b3-43f787b8007b",
   "metadata": {},
   "outputs": [
    {
     "data": {
      "text/html": [
       "<div>\n",
       "<style scoped>\n",
       "    .dataframe tbody tr th:only-of-type {\n",
       "        vertical-align: middle;\n",
       "    }\n",
       "\n",
       "    .dataframe tbody tr th {\n",
       "        vertical-align: top;\n",
       "    }\n",
       "\n",
       "    .dataframe thead th {\n",
       "        text-align: right;\n",
       "    }\n",
       "</style>\n",
       "<table border=\"1\" class=\"dataframe\">\n",
       "  <thead>\n",
       "    <tr style=\"text-align: right;\">\n",
       "      <th></th>\n",
       "      <th>tsales</th>\n",
       "      <th>sales</th>\n",
       "      <th>margin</th>\n",
       "      <th>nown</th>\n",
       "      <th>inv1</th>\n",
       "      <th>inv2</th>\n",
       "      <th>ssize</th>\n",
       "      <th>start</th>\n",
       "    </tr>\n",
       "  </thead>\n",
       "  <tbody>\n",
       "    <tr>\n",
       "      <th>0</th>\n",
       "      <td>750000</td>\n",
       "      <td>4411.765</td>\n",
       "      <td>41.0</td>\n",
       "      <td>1.0</td>\n",
       "      <td>17166.67</td>\n",
       "      <td>27177.04</td>\n",
       "      <td>170</td>\n",
       "      <td>41.0</td>\n",
       "    </tr>\n",
       "    <tr>\n",
       "      <th>1</th>\n",
       "      <td>1926395</td>\n",
       "      <td>4280.878</td>\n",
       "      <td>39.0</td>\n",
       "      <td>2.0</td>\n",
       "      <td>17166.67</td>\n",
       "      <td>27177.04</td>\n",
       "      <td>450</td>\n",
       "      <td>39.0</td>\n",
       "    </tr>\n",
       "    <tr>\n",
       "      <th>2</th>\n",
       "      <td>1250000</td>\n",
       "      <td>4166.667</td>\n",
       "      <td>40.0</td>\n",
       "      <td>1.0</td>\n",
       "      <td>292857.20</td>\n",
       "      <td>71570.55</td>\n",
       "      <td>300</td>\n",
       "      <td>40.0</td>\n",
       "    </tr>\n",
       "    <tr>\n",
       "      <th>3</th>\n",
       "      <td>694227</td>\n",
       "      <td>2670.104</td>\n",
       "      <td>40.0</td>\n",
       "      <td>1.0</td>\n",
       "      <td>22207.04</td>\n",
       "      <td>15000.00</td>\n",
       "      <td>260</td>\n",
       "      <td>40.0</td>\n",
       "    </tr>\n",
       "    <tr>\n",
       "      <th>4</th>\n",
       "      <td>750000</td>\n",
       "      <td>15000.000</td>\n",
       "      <td>44.0</td>\n",
       "      <td>2.0</td>\n",
       "      <td>22207.04</td>\n",
       "      <td>10000.00</td>\n",
       "      <td>50</td>\n",
       "      <td>44.0</td>\n",
       "    </tr>\n",
       "  </tbody>\n",
       "</table>\n",
       "</div>"
      ],
      "text/plain": [
       "    tsales      sales  margin  nown       inv1      inv2  ssize  start\n",
       "0   750000   4411.765    41.0   1.0   17166.67  27177.04    170   41.0\n",
       "1  1926395   4280.878    39.0   2.0   17166.67  27177.04    450   39.0\n",
       "2  1250000   4166.667    40.0   1.0  292857.20  71570.55    300   40.0\n",
       "3   694227   2670.104    40.0   1.0   22207.04  15000.00    260   40.0\n",
       "4   750000  15000.000    44.0   2.0   22207.04  10000.00     50   44.0"
      ]
     },
     "execution_count": 6,
     "metadata": {},
     "output_type": "execute_result"
    }
   ],
   "source": [
    "# pick the important features I think\n",
    "df = data[['tsales', 'sales', 'margin', 'nown', 'inv1', 'inv2', 'ssize', 'start']]\n",
    "df.head()"
   ]
  },
  {
   "cell_type": "code",
   "execution_count": 7,
   "id": "2f5bc5fd-bdf1-489f-b6e5-91c118203f55",
   "metadata": {},
   "outputs": [
    {
     "name": "stdout",
     "output_type": "stream",
     "text": [
      "<class 'pandas.core.frame.DataFrame'>\n",
      "RangeIndex: 400 entries, 0 to 399\n",
      "Data columns (total 8 columns):\n",
      " #   Column  Non-Null Count  Dtype  \n",
      "---  ------  --------------  -----  \n",
      " 0   tsales  400 non-null    int64  \n",
      " 1   sales   400 non-null    float64\n",
      " 2   margin  400 non-null    float64\n",
      " 3   nown    400 non-null    float64\n",
      " 4   inv1    400 non-null    float64\n",
      " 5   inv2    400 non-null    float64\n",
      " 6   ssize   400 non-null    int64  \n",
      " 7   start   400 non-null    float64\n",
      "dtypes: float64(6), int64(2)\n",
      "memory usage: 25.1 KB\n"
     ]
    }
   ],
   "source": [
    "# get info from df\n",
    "df.info()"
   ]
  },
  {
   "cell_type": "code",
   "execution_count": 8,
   "id": "0047cae5-eaac-4b91-ba8d-0966234a9438",
   "metadata": {},
   "outputs": [
    {
     "data": {
      "text/html": [
       "<div>\n",
       "<style scoped>\n",
       "    .dataframe tbody tr th:only-of-type {\n",
       "        vertical-align: middle;\n",
       "    }\n",
       "\n",
       "    .dataframe tbody tr th {\n",
       "        vertical-align: top;\n",
       "    }\n",
       "\n",
       "    .dataframe thead th {\n",
       "        text-align: right;\n",
       "    }\n",
       "</style>\n",
       "<table border=\"1\" class=\"dataframe\">\n",
       "  <thead>\n",
       "    <tr style=\"text-align: right;\">\n",
       "      <th></th>\n",
       "      <th>tsales</th>\n",
       "      <th>sales</th>\n",
       "      <th>margin</th>\n",
       "      <th>nown</th>\n",
       "      <th>inv1</th>\n",
       "      <th>inv2</th>\n",
       "      <th>ssize</th>\n",
       "      <th>start</th>\n",
       "    </tr>\n",
       "  </thead>\n",
       "  <tbody>\n",
       "    <tr>\n",
       "      <th>count</th>\n",
       "      <td>4.000000e+02</td>\n",
       "      <td>400.000000</td>\n",
       "      <td>400.000000</td>\n",
       "      <td>400.000000</td>\n",
       "      <td>4.000000e+02</td>\n",
       "      <td>400.000000</td>\n",
       "      <td>400.000000</td>\n",
       "      <td>400.000000</td>\n",
       "    </tr>\n",
       "    <tr>\n",
       "      <th>mean</th>\n",
       "      <td>8.335842e+05</td>\n",
       "      <td>6334.751278</td>\n",
       "      <td>38.774230</td>\n",
       "      <td>1.283796</td>\n",
       "      <td>5.825726e+04</td>\n",
       "      <td>27829.217000</td>\n",
       "      <td>151.050000</td>\n",
       "      <td>42.808462</td>\n",
       "    </tr>\n",
       "    <tr>\n",
       "      <th>std</th>\n",
       "      <td>5.834638e+05</td>\n",
       "      <td>3739.343624</td>\n",
       "      <td>5.218184</td>\n",
       "      <td>0.639773</td>\n",
       "      <td>1.075588e+05</td>\n",
       "      <td>41501.943418</td>\n",
       "      <td>112.498254</td>\n",
       "      <td>13.296070</td>\n",
       "    </tr>\n",
       "    <tr>\n",
       "      <th>min</th>\n",
       "      <td>5.000000e+04</td>\n",
       "      <td>300.000000</td>\n",
       "      <td>16.000000</td>\n",
       "      <td>1.000000</td>\n",
       "      <td>1.000000e+03</td>\n",
       "      <td>350.000000</td>\n",
       "      <td>16.000000</td>\n",
       "      <td>16.000000</td>\n",
       "    </tr>\n",
       "    <tr>\n",
       "      <th>25%</th>\n",
       "      <td>4.953400e+05</td>\n",
       "      <td>3904.200000</td>\n",
       "      <td>37.000000</td>\n",
       "      <td>1.000000</td>\n",
       "      <td>2.000000e+04</td>\n",
       "      <td>10000.000000</td>\n",
       "      <td>80.000000</td>\n",
       "      <td>37.000000</td>\n",
       "    </tr>\n",
       "    <tr>\n",
       "      <th>50%</th>\n",
       "      <td>6.942270e+05</td>\n",
       "      <td>5278.935000</td>\n",
       "      <td>39.000000</td>\n",
       "      <td>1.000000</td>\n",
       "      <td>2.220704e+04</td>\n",
       "      <td>22859.850000</td>\n",
       "      <td>120.000000</td>\n",
       "      <td>40.000000</td>\n",
       "    </tr>\n",
       "    <tr>\n",
       "      <th>75%</th>\n",
       "      <td>9.768170e+05</td>\n",
       "      <td>7739.899250</td>\n",
       "      <td>41.000000</td>\n",
       "      <td>1.295225</td>\n",
       "      <td>6.226923e+04</td>\n",
       "      <td>22859.850000</td>\n",
       "      <td>190.000000</td>\n",
       "      <td>42.000000</td>\n",
       "    </tr>\n",
       "    <tr>\n",
       "      <th>max</th>\n",
       "      <td>5.000000e+06</td>\n",
       "      <td>27000.000000</td>\n",
       "      <td>66.000000</td>\n",
       "      <td>10.000000</td>\n",
       "      <td>1.500000e+06</td>\n",
       "      <td>400000.000000</td>\n",
       "      <td>1214.000000</td>\n",
       "      <td>90.000000</td>\n",
       "    </tr>\n",
       "  </tbody>\n",
       "</table>\n",
       "</div>"
      ],
      "text/plain": [
       "             tsales         sales      margin        nown          inv1  \\\n",
       "count  4.000000e+02    400.000000  400.000000  400.000000  4.000000e+02   \n",
       "mean   8.335842e+05   6334.751278   38.774230    1.283796  5.825726e+04   \n",
       "std    5.834638e+05   3739.343624    5.218184    0.639773  1.075588e+05   \n",
       "min    5.000000e+04    300.000000   16.000000    1.000000  1.000000e+03   \n",
       "25%    4.953400e+05   3904.200000   37.000000    1.000000  2.000000e+04   \n",
       "50%    6.942270e+05   5278.935000   39.000000    1.000000  2.220704e+04   \n",
       "75%    9.768170e+05   7739.899250   41.000000    1.295225  6.226923e+04   \n",
       "max    5.000000e+06  27000.000000   66.000000   10.000000  1.500000e+06   \n",
       "\n",
       "                inv2        ssize       start  \n",
       "count     400.000000   400.000000  400.000000  \n",
       "mean    27829.217000   151.050000   42.808462  \n",
       "std     41501.943418   112.498254   13.296070  \n",
       "min       350.000000    16.000000   16.000000  \n",
       "25%     10000.000000    80.000000   37.000000  \n",
       "50%     22859.850000   120.000000   40.000000  \n",
       "75%     22859.850000   190.000000   42.000000  \n",
       "max    400000.000000  1214.000000   90.000000  "
      ]
     },
     "execution_count": 8,
     "metadata": {},
     "output_type": "execute_result"
    }
   ],
   "source": [
    "# analysis the data\n",
    "df.describe()"
   ]
  },
  {
   "cell_type": "code",
   "execution_count": 10,
   "id": "2b9cbb94-3f51-40b2-a734-5d46aa55a521",
   "metadata": {},
   "outputs": [
    {
     "data": {
      "text/plain": [
       "<Axes: >"
      ]
     },
     "execution_count": 10,
     "metadata": {},
     "output_type": "execute_result"
    },
    {
     "data": {
      "image/png": "[encoded data removed]",
      "text/plain": [
       "<Figure size 640x480 with 2 Axes>"
      ]
     },
     "metadata": {},
     "output_type": "display_data"
    }
   ],
   "source": [
    "# correlation matrix\n",
    "sns.heatmap(data = df.corr(),\n",
    "            annot = True,\n",
    "            center = 0,\n",
    "            cmap = 'coolwarm',\n",
    "            linewidths = 0,\n",
    "            linecolor = 'black')"
   ]
  },
  {
   "cell_type": "markdown",
   "id": "77f66feb-610f-425f-b149-9650dfbe07f4",
   "metadata": {},
   "source": [
    "- 店铺面积越大，营业额越高\n",
    "- 店铺越新，毛利越多\n",
    "- 投资正相关"
   ]
  },
  {
   "cell_type": "markdown",
   "id": "e659cb1d-1352-4d9f-9c3d-291879cb2bbb",
   "metadata": {},
   "source": [
    "### Multilinear regression"
   ]
  },
  {
   "cell_type": "code",
   "execution_count": 11,
   "id": "15bcbf09-01af-4e65-b88b-360fbc18e903",
   "metadata": {},
   "outputs": [],
   "source": [
    "# set X and y\n",
    "y = df.tsales\n",
    "X = df.drop(columns = ['tsales'])\n",
    "X = sm.add_constant(X)"
   ]
  },
  {
   "cell_type": "code",
   "execution_count": 12,
   "id": "261e7145-df4b-46e6-8d48-e02f445a7f8d",
   "metadata": {},
   "outputs": [
    {
     "name": "stdout",
     "output_type": "stream",
     "text": [
      "                            OLS Regression Results                            \n",
      "==============================================================================\n",
      "Dep. Variable:                 tsales   R-squared:                       0.727\n",
      "Model:                            OLS   Adj. R-squared:                  0.721\n",
      "Method:                 Least Squares   F-statistic:                     118.7\n",
      "Date:                Fri, 08 Mar 2024   Prob (F-statistic):           4.73e-84\n",
      "Time:                        22:00:39   Log-Likelihood:                -4483.4\n",
      "No. Observations:                 320   AIC:                             8983.\n",
      "Df Residuals:                     312   BIC:                             9013.\n",
      "Df Model:                           7                                         \n",
      "Covariance Type:            nonrobust                                         \n",
      "==============================================================================\n",
      "                 coef    std err          t      P>|t|      [0.025      0.975]\n",
      "------------------------------------------------------------------------------\n",
      "const      -4.275e+05   1.28e+05     -3.350      0.001   -6.79e+05   -1.76e+05\n",
      "sales        100.2819      4.770     21.022      0.000      90.896     109.668\n",
      "margin      4288.7841   3722.396      1.152      0.250   -3035.390    1.16e+04\n",
      "nown       -3.252e+04   2.54e+04     -1.280      0.201   -8.25e+04    1.75e+04\n",
      "inv1          -0.1420      0.169     -0.842      0.401      -0.474       0.190\n",
      "inv2           0.4653      0.446      1.044      0.297      -0.412       1.342\n",
      "ssize       3808.8390    169.460     22.476      0.000    3475.410    4142.268\n",
      "start      -2091.4721   1470.844     -1.422      0.156   -4985.500     802.556\n",
      "==============================================================================\n",
      "Omnibus:                       94.535   Durbin-Watson:                   2.024\n",
      "Prob(Omnibus):                  0.000   Jarque-Bera (JB):             4550.625\n",
      "Skew:                          -0.185   Prob(JB):                         0.00\n",
      "Kurtosis:                      21.471   Cond. No.                     1.02e+06\n",
      "==============================================================================\n",
      "\n",
      "Notes:\n",
      "[1] Standard Errors assume that the covariance matrix of the errors is correctly specified.\n",
      "[2] The condition number is large, 1.02e+06. This might indicate that there are\n",
      "strong multicollinearity or other numerical problems.\n"
     ]
    }
   ],
   "source": [
    "# split train data to test data\n",
    "from sklearn.model_selection import train_test_split\n",
    "X_train, X_test, y_train, y_test = train_test_split(\n",
    "    X,\n",
    "    y,\n",
    "    test_size = 0.2,\n",
    "    random_state = 42\n",
    ")\n",
    "\n",
    "# model with miltilinear regression\n",
    "model = sm.OLS(y_train, X_train).fit()\n",
    "print(model.summary())"
   ]
  },
  {
   "cell_type": "markdown",
   "id": "5e59f3b6-711f-452b-b763-e38b0d09281c",
   "metadata": {},
   "source": [
    "Here are some conclusions we can draw from the OLS Regression Results:\n",
    "\n",
    "* **The model has a good fit:** The R-squared value of 0.727 indicates that the model explains 72.7% of the variation in annual sales (tsales).\n",
    "* **Sales per square meter (sales) and store size (ssize) are the most important factors influencing annual sales:** These coefficients have the highest values and statistically significant p-values (much lower than 0.05). This suggests that stores with higher sales per square meter and larger floor space tend to have higher annual sales.\n",
    "* **The number of owners (nown) might have a negative impact on annual sales:** The coefficient is negative and marginally significant (p-value = 0.201). However, due to the p-value being higher than the typical threshold of 0.05, we should be cautious about interpreting this result. More data analysis might be needed to confirm this relationship.\n",
    "* **The effect of other factors (margin, inv1, inv2, start) is inconclusive:**  While some coefficients have the expected signs (e.g., positive for margin), their p-values are not statistically significant. Additionally, the high condition number suggests potential multicollinearity, which means some independent variables might be highly correlated, making it difficult to isolate their individual effects.\n",
    "\n",
    "**Important Note:**\n",
    "\n",
    "* The high condition number (1.02e+06) indicates a potential issue with multicollinearity. This means some of the independent variables might be highly correlated, making it difficult to interpret the individual coefficients accurately. Further analysis is recommended to address this issue, such as dropping correlated variables or using appropriate statistical techniques.\n"
   ]
  },
  {
   "cell_type": "code",
   "execution_count": 15,
   "id": "fdcf9f34-7d03-4b71-8781-310105514372",
   "metadata": {},
   "outputs": [
    {
     "data": {
      "text/plain": [
       "209    6.184855e+05\n",
       "280    1.178190e+06\n",
       "dtype: float64"
      ]
     },
     "execution_count": 15,
     "metadata": {},
     "output_type": "execute_result"
    }
   ],
   "source": [
    "# Predictions\n",
    "predictions = model.predict(X_test)\n",
    "predictions[:2]"
   ]
  },
  {
   "cell_type": "code",
   "execution_count": 16,
   "id": "3ed26d2c-493a-4a9c-b2ab-2cfff78a1471",
   "metadata": {},
   "outputs": [
    {
     "name": "stdout",
     "output_type": "stream",
     "text": [
      "The MAE is 164546\n",
      "The RMSE is 380120\n"
     ]
    }
   ],
   "source": [
    "# Accuracy Assessment\n",
    "from sklearn.metrics import mean_squared_error, mean_absolute_error\n",
    "print(f\"The MAE is {mean_absolute_error(y_test, predictions):.0f}\")\n",
    "print(f\"The RMSE is {mean_squared_error(y_test, predictions, squared = False):.0f}\")"
   ]
  },
  {
   "cell_type": "markdown",
   "id": "a7d824fe-8366-4620-9d0a-f491d07e0bdc",
   "metadata": {},
   "source": [
    "如何看这些统计指标？"
   ]
  },
  {
   "cell_type": "code",
   "execution_count": null,
   "id": "e20106ce-ad0f-47d2-8c0b-dc3f8b780448",
   "metadata": {},
   "outputs": [],
   "source": []
  }
 ],
 "metadata": {
  "kernelspec": {
   "display_name": "Python 3 (ipykernel)",
   "language": "python",
   "name": "python3"
  },
  "language_info": {
   "codemirror_mode": {
    "name": "ipython",
    "version": 3
   },
   "file_extension": ".py",
   "mimetype": "text/x-python",
   "name": "python",
   "nbconvert_exporter": "python",
   "pygments_lexer": "ipython3",
   "version": "3.11.5"
  }
 },
 "nbformat": 4,
 "nbformat_minor": 5
}
