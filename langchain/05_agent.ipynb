{
 "cells": [
  {
   "cell_type": "markdown",
   "id": "b8f22157-7f1d-472c-937b-6c403247bbff",
   "metadata": {},
   "source": [
    "### Basic"
   ]
  },
  {
   "cell_type": "code",
   "execution_count": null,
   "id": "bedd4fb1-5c25-4893-9b93-ab7d352fab38",
   "metadata": {},
   "outputs": [],
   "source": [
    "from langchain.agents import load_tools\n",
    "from langchain.agents import initialize_agent\n",
    "from langchain.agents import AgentType\n",
    "from langchain.llms import OpenAI\n",
    "from langchain.chat_models import ChatOpenAI\n",
    "\n",
    "llm = OpenAI(temperature=0)\n",
    "tools = load_tools([\"llm-math\"], llm=llm)\n",
    "agent = initialize_agent(tools, \n",
    "                         llm, \n",
    "                         agent=AgentType.ZERO_SHOT_REACT_DESCRIPTION, \n",
    "                         verbose=True)\n",
    "agent.run(\"What is 134292 times 282393?\")"
   ]
  },
  {
   "cell_type": "markdown",
   "id": "7b40ab67-63a6-4f39-aea9-1896b0668c7f",
   "metadata": {},
   "source": [
    "### Agent Tools"
   ]
  },
  {
   "cell_type": "code",
   "execution_count": null,
   "id": "bc99e22e-dc27-493f-ba59-2488160ca79a",
   "metadata": {},
   "outputs": [],
   "source": [
    "# !pip install google-search-results\n",
    "llm = ChatOpenAI(temperature=0)\n",
    "tools = load_tools([\"serpapi\",\"llm-math\"], llm=llm,) \n",
    "# use os set environ variable of key\n",
    "\n",
    "agent = initialize_agent(tools, \n",
    "                         llm, \n",
    "                         agent=AgentType.ZERO_SHOT_REACT_DESCRIPTION, \n",
    "                         verbose=True)\n",
    "agent.run(\"What year was Albert Einstein born? What is that year number multiplied by 5?\")\n",
    "\n",
    "# > Entering new  chain...\n",
    "# I can use the search tool to find the year Albert Einstein was born. Then I can use the calculator to multiply that year by 5.\n",
    "# Action: Search\n",
    "# Action Input: \"Albert Einstein birth year\"\n",
    "# Observation: March 14, 1879\n",
    "# Thought:Now I can use the calculator to multiply 1879 by 5.\n",
    "# Action: Calculator\n",
    "# Action Input: 1879 * 5\n",
    "# Observation: Answer: 9395\n",
    "# Thought:I now know the final answer\n",
    "# Final Answer: The year Albert Einstein was born is 1879. When multiplied by 5, the result is 9395."
   ]
  },
  {
   "cell_type": "markdown",
   "id": "086bf7eb-2d71-4ce5-b767-aa646a6866ca",
   "metadata": {},
   "source": [
    "### Python Agent Tools Example"
   ]
  },
  {
   "cell_type": "code",
   "execution_count": null,
   "id": "fb1d0651-9c65-4716-bdb3-450742eb8ae5",
   "metadata": {},
   "outputs": [],
   "source": [
    "from langchain.tools.python.tool import PythonREPLTool\n",
    "from langchain.python import PythonREPL\n",
    "from langchain.agents.agent_toolkits import create_python_agent\n",
    "llm = ChatOpenAI(temperature=0) \n",
    "\n",
    "agent = create_python_agent(tool=PythonREPLTool(),\n",
    "                         llm=llm, \n",
    "                         agent=AgentType.ZERO_SHOT_REACT_DESCRIPTION, \n",
    "                         verbose=True)\n",
    "python_list = [3,5,2,1,5,7,8,1,9,10]\n",
    "agent.run(f'''Sort this Python list {python_list}''')"
   ]
  },
  {
   "cell_type": "markdown",
   "id": "c0efc4b9-34f0-4dbb-baf5-b47e9df53b58",
   "metadata": {},
   "source": [
    "### Custom Tools"
   ]
  },
  {
   "cell_type": "code",
   "execution_count": null,
   "id": "ce9561a2-1c28-4737-91c9-8ace27a270ad",
   "metadata": {},
   "outputs": [],
   "source": [
    "from langchain.agents import tool\n",
    "@tool\n",
    "def coolest_guy(text: str) -> str:\n",
    "    '''Returns the name of the coolest guy in the universe'''\n",
    "    return \"Jose Portilla\"\n",
    "\n",
    "llm = OpenAI(temperature=0)\n",
    "tools = load_tools([\"wikipedia\",\"llm-math\"], llm=llm) \n",
    "tools = tools +[coolest_guy]\n",
    "agent = initialize_agent(tools, \n",
    "                         llm, \n",
    "                         agent=AgentType.ZERO_SHOT_REACT_DESCRIPTION, \n",
    "                         verbose=True)\n",
    "agent.run(\"Whos is the coolest guy in the universe?\")\n",
    "\n",
    "@tool\n",
    "def some_api_call(text: str) -> str:\n",
    "    '''Can now connect your Agents to any tool via an API call, get creative here!'''\n",
    "    return api_result\n",
    "\n",
    "from datetime import datetime\n",
    "# DOC STRINGS SHOULD BE VERY DESCRIPTIVE\n",
    "# IT IS WHAT THE LLM READS TO DECIDE TO USE THE TOOL!\n",
    "@tool\n",
    "def get_time(text: str) -> str:\n",
    "    '''Returns the current time. Use this for any questions\n",
    "    regarding the current time. Input is an empty string and\n",
    "    the current time is returned in a string format. Only use this function\n",
    "    for the current time. Other time related questions should use another tool'''\n",
    "    return str(datetime.now())\n",
    "\n",
    "agent = initialize_agent(tools+[get_time], \n",
    "                         llm, \n",
    "                         agent=AgentType.ZERO_SHOT_REACT_DESCRIPTION, \n",
    "                         verbose=True)\n",
    "agent(\"What time did Pearl Harbor happen at?\")\n",
    "agent(\"What time is it?\")"
   ]
  },
  {
   "cell_type": "markdown",
   "id": "7ccb8ea4-14b6-46f6-9237-50d8b8de8e19",
   "metadata": {},
   "source": [
    "### Conversation Agents\n"
   ]
  },
  {
   "cell_type": "code",
   "execution_count": null,
   "id": "010d3c47-870e-4cb7-9d48-d0423c576629",
   "metadata": {},
   "outputs": [],
   "source": [
    "from langchain.agents import Tool\n",
    "from langchain.agents import AgentType\n",
    "from langchain.memory import ConversationBufferMemory\n",
    "from langchain.chat_models import ChatOpenAI\n",
    "from langchain.agents import initialize_agent\n",
    "from langchain.agents import load_tools\n",
    "\n",
    "memory = ConversationBufferMemory(memory_key=\"chat_history\")\n",
    "\n",
    "llm=ChatOpenAI(temperature=0)\n",
    "tools = load_tools([\"llm-math\"], llm=llm) \n",
    "agent_chain = initialize_agent(tools, \n",
    "                               llm,\n",
    "                               agent=AgentType.CONVERSATIONAL_REACT_DESCRIPTION, \n",
    "                               verbose=True, \n",
    "                               memory=memory)\n",
    "agent_chain.run(input=\"What are some good thai food recipes?\")\n",
    "agent_chain.run(\"Which one of those dishes is the spiciest?\")\n",
    "agent_chain.run(\"Give me a grocery shopping list to make that dish\")"
   ]
  }
 ],
 "metadata": {
  "kernelspec": {
   "display_name": "Python 3 (ipykernel)",
   "language": "python",
   "name": "python3"
  },
  "language_info": {
   "codemirror_mode": {
    "name": "ipython",
    "version": 3
   },
   "file_extension": ".py",
   "mimetype": "text/x-python",
   "name": "python",
   "nbconvert_exporter": "python",
   "pygments_lexer": "ipython3",
   "version": "3.11.5"
  }
 },
 "nbformat": 4,
 "nbformat_minor": 5
}
