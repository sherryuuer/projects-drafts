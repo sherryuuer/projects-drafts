{
 "cells": [
  {
   "cell_type": "markdown",
   "id": "dfc07139-9edf-4344-aa2e-4b735568d8c0",
   "metadata": {},
   "source": [
    "### ChatMessageHistory"
   ]
  },
  {
   "cell_type": "code",
   "execution_count": null,
   "id": "fd4308f6-7ff3-4a0d-a741-2b9e9dfb47f7",
   "metadata": {},
   "outputs": [],
   "source": [
    "from langchain.memory import ChatMessageHistory\n",
    "history = ChatMessageHistory()\n",
    "history.add_user_message(\"Hello, nice to meet you.\")\n",
    "history.add_ai_message(\"Nice to meet you too!\")\n",
    "\n",
    "history.messages"
   ]
  },
  {
   "cell_type": "markdown",
   "id": "0e801389-b98c-41c0-b670-20417a8415e2",
   "metadata": {},
   "source": [
    "### ConversationBufferMemory"
   ]
  },
  {
   "cell_type": "code",
   "execution_count": null,
   "id": "85b6ea3b-4453-4cca-8884-79f3097cbcbf",
   "metadata": {},
   "outputs": [],
   "source": [
    "from langchain.chat_models import ChatOpenAI\n",
    "from langchain.chains import ConversationChain\n",
    "from langchain.memory import ConversationBufferMemory\n",
    "\n",
    "llm = ChatOpenAI(temperature=0.0)\n",
    "memory = ConversationBufferMemory()\n",
    "\n",
    "conversation = ConversationChain(\n",
    "    llm=llm, \n",
    "    memory = memory,\n",
    "    verbose=True\n",
    ")\n",
    "\n",
    "conversation.predict(input=\"Hello, nice to meet you!\")\n",
    "conversation.predict(input=\"Tell me about the Einstein-Szilard Letter \")\n",
    "print(memory.buffer)\n",
    "memory.load_memory_variables({})"
   ]
  },
  {
   "cell_type": "code",
   "execution_count": null,
   "id": "736c1a30-7de9-408e-af35-ea766255dd22",
   "metadata": {},
   "outputs": [],
   "source": [
    "# save and load\n",
    "import pickle\n",
    "pickled_str = pickle.dumps(conversation.memory)\n",
    "with open('memory.pkl','wb') as f:\n",
    "    f.write(pickled_str)\n",
    "new_memory_load = open('memory.pkl','rb').read()\n",
    "llm = ChatOpenAI(temperature=0.0)\n",
    "reload_conversation = ConversationChain(\n",
    "    llm=llm, \n",
    "    memory = pickle.loads(new_memory_load),\n",
    "    verbose=True\n",
    ")\n",
    "reload_conversation.memory.buffer"
   ]
  },
  {
   "cell_type": "markdown",
   "id": "fc6ed7a2-da5d-4df8-9c89-fa02c1e0edf0",
   "metadata": {},
   "source": [
    "### ConversationBufferWindowMemory"
   ]
  },
  {
   "cell_type": "code",
   "execution_count": null,
   "id": "1bbc19b9-355f-4d97-aeb6-4cc94771321e",
   "metadata": {},
   "outputs": [],
   "source": [
    "from langchain.memory import ConversationBufferWindowMemory\n",
    "llm = ChatOpenAI(temperature=0.0)\n",
    "memory = ConversationBufferWindowMemory(k=1)\n",
    "\n",
    "conversation = ConversationChain(\n",
    "    llm=llm, \n",
    "    memory = memory,\n",
    "    verbose=True\n",
    ")\n",
    "conversation.predict(input=\"Hello, nice to meet you!\")\n",
    "print(memory.buffer)\n",
    "memory.load_memory_variables({}) # only return 1 conversation because k = 1"
   ]
  },
  {
   "cell_type": "markdown",
   "id": "0a95fca0-481b-45c5-b310-099f5247b6e5",
   "metadata": {},
   "source": [
    "### ConversationSummaryMemory"
   ]
  },
  {
   "cell_type": "code",
   "execution_count": null,
   "id": "9b442a53-f4d1-433c-8d6a-7ed5f0085129",
   "metadata": {},
   "outputs": [],
   "source": [
    "from langchain.memory import ConversationSummaryBufferMemory\n",
    "llm = ChatOpenAI(temperature=0)\n",
    "memory = ConversationSummaryBufferMemory(llm=llm, max_token_limit=100)\n",
    "memory.save_context({\"input\": \"Hello\"}, {\"output\": \"Hi!\"})\n",
    "memory.save_context({\"input\": \"What plans do you have this weekend?\"}, \n",
    "                    {\"output\": f\"{trip_plans}\"})\n",
    "memory.load_memory_variables({})\n",
    "# {'history': 'System: The human greets the AI and asks about its plans for the weekend. The AI excitedly shares that it is planning a trip to Yellowstone National Park. It mentions driving through the grand entrance, visiting the Old Faithful Geyser, exploring the Upper Geyser Basin, and ending the day with a dip in the Boiling River. The AI then asks the human about their weekend plans.'}"
   ]
  }
 ],
 "metadata": {
  "kernelspec": {
   "display_name": "Python 3 (ipykernel)",
   "language": "python",
   "name": "python3"
  },
  "language_info": {
   "codemirror_mode": {
    "name": "ipython",
    "version": 3
   },
   "file_extension": ".py",
   "mimetype": "text/x-python",
   "name": "python",
   "nbconvert_exporter": "python",
   "pygments_lexer": "ipython3",
   "version": "3.11.5"
  }
 },
 "nbformat": 4,
 "nbformat_minor": 5
}
