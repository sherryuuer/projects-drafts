{
 "cells": [
  {
   "cell_type": "markdown",
   "id": "ff1f1c6d-8d58-4b14-b875-ba47df891549",
   "metadata": {},
   "source": [
    "### Document Loader"
   ]
  },
  {
   "cell_type": "code",
   "execution_count": null,
   "id": "249dfd98-f2f5-4b75-a161-49b32ed36acb",
   "metadata": {},
   "outputs": [],
   "source": [
    "# csv\n",
    "from langchain.document_loaders import CSVLoader\n",
    "loader = CSVLoader('some_data/penguins.csv')\n",
    "data = loader.load()\n",
    "print(data)  # a list\n",
    "print(data[0].page_content)"
   ]
  },
  {
   "cell_type": "code",
   "execution_count": null,
   "id": "74d1f973-ab35-4224-baba-a608edd3a133",
   "metadata": {},
   "outputs": [],
   "source": [
    "# html\n",
    "!pip install beautifulsoup4\n",
    "from langchain.document_loaders import BSHTMLLoader\n",
    "loader = BSHTMLLoader('some_data/some_website.html')\n",
    "data = loader.load()\n",
    "data"
   ]
  },
  {
   "cell_type": "code",
   "execution_count": null,
   "id": "019fa990-7cbd-472a-beba-9ce38f8644e9",
   "metadata": {},
   "outputs": [],
   "source": [
    "# pdf\n",
    "!pip install pypdf\n",
    "from langchain.document_loaders import PyPDFLoader\n",
    "loader = PyPDFLoader('some_data/SomeReport.pdf')\n",
    "pages = loader.load_and_split()\n",
    "type(pages)  # list\n",
    "print(pages[0].page_content)"
   ]
  },
  {
   "cell_type": "markdown",
   "id": "953d319e-2030-463f-bee6-ffb6c64c84a2",
   "metadata": {},
   "source": [
    "### Integrations"
   ]
  },
  {
   "cell_type": "code",
   "execution_count": null,
   "id": "35b8d411-1b1a-4f72-87bc-aa9e0cdef00f",
   "metadata": {},
   "outputs": [],
   "source": [
    "from langchain.document_loaders import HNLoader  # Hacker News\n",
    "loader = HNLoader(link_of_hacker_news)\n",
    "data = loader.load()\n",
    "print(data[0].page_content, data[0].metadata)\n",
    "\n",
    "from langchain.prompts import (\n",
    "    ChatPromptTemplate,\n",
    "    SystemMessagePromptTemplate,\n",
    "    HumanMessagePromptTemplate,\n",
    ")\n",
    "from langchain.chat_models import ChatOpenAI\n",
    "\n",
    "f = open('key.txt')\n",
    "api_key = f.read()\n",
    "model = ChatOpenAI(openai_api_key=api_key)\n",
    "human_prompt = HumanMessagePromptTemplate.from_template('Please give me a single sentence summary of the following:\\n{document}')\n",
    "chat_prompt = ChatPromptTemplate.from_messages([human_prompt])\n",
    "result = model(chat_prompt.format_prompt(document=data[0].page_content).to_messages())\n",
    "print(result.content)"
   ]
  },
  {
   "cell_type": "code",
   "execution_count": null,
   "id": "65437986-3fcf-4b78-acfd-d01ce06fad2f",
   "metadata": {},
   "outputs": [],
   "source": [
    "# example: user wiki page to anwser\n",
    "# !pip install wikipedia\n",
    "from langchain.prompts import (\n",
    "    ChatPromptTemplate,\n",
    "    SystemMessagePromptTemplate,\n",
    "    HumanMessagePromptTemplate,\n",
    ")\n",
    "from langchain.chat_models import ChatOpenAI\n",
    "from langchain.document_loaders import WikipediaLoader\n",
    "\n",
    "\n",
    "def answer_question_about(person_name,question):\n",
    "    # Get Wikipedia Article\n",
    "    docs = WikipediaLoader(query=person_name, load_max_docs=1)\n",
    "    context_text = docs.load()[0].page_content\n",
    "    \n",
    "    # Connect to OpenAI Model\n",
    "    f = open('keyfile.txt')\n",
    "    api_key = f.read()\n",
    "    model = ChatOpenAI(openai_api_key=api_key)\n",
    "    \n",
    "    # Ask Model Question\n",
    "    human_prompt = HumanMessagePromptTemplate.from_template('Answer this question\\n{question}, here is some extra context:\\n{document}')\n",
    "    \n",
    "    # Assemble chat prompt\n",
    "    chat_prompt = ChatPromptTemplate.from_messages([human_prompt])\n",
    "    \n",
    "    #result\n",
    "    result = model(chat_prompt.format_prompt(question=question, document=data[0].page_content).to_messages())\n",
    "    \n",
    "    print(result.content)"
   ]
  }
 ],
 "metadata": {
  "kernelspec": {
   "display_name": "Python 3 (ipykernel)",
   "language": "python",
   "name": "python3"
  },
  "language_info": {
   "codemirror_mode": {
    "name": "ipython",
    "version": 3
   },
   "file_extension": ".py",
   "mimetype": "text/x-python",
   "name": "python",
   "nbconvert_exporter": "python",
   "pygments_lexer": "ipython3",
   "version": "3.11.5"
  }
 },
 "nbformat": 4,
 "nbformat_minor": 5
}
