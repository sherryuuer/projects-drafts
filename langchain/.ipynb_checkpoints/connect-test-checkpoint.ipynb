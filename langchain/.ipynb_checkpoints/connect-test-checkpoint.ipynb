{
 "cells": [
  {
   "cell_type": "code",
   "execution_count": 5,
   "id": "7ba41ceb-2ca5-4321-bb70-1011e2f6dca8",
   "metadata": {},
   "outputs": [],
   "source": [
    "# !pip install openai"
   ]
  },
  {
   "cell_type": "code",
   "execution_count": 3,
   "id": "65d7eb62-9a5b-4514-ad78-7f3d64e7e741",
   "metadata": {},
   "outputs": [],
   "source": [
    "# setup the api key\n",
    "# import openai\n",
    "import os\n",
    "# setup environ\n",
    "os.environ[\"openaikey\"] = \"xxx\""
   ]
  },
  {
   "cell_type": "code",
   "execution_count": 4,
   "id": "aa101b31-ad84-4990-8532-ae38197e3b55",
   "metadata": {},
   "outputs": [
    {
     "data": {
      "text/plain": [
       "'xxx'"
      ]
     },
     "execution_count": 4,
     "metadata": {},
     "output_type": "execute_result"
    }
   ],
   "source": [
    "os.getenv(\"openaikey\")"
   ]
  },
  {
   "cell_type": "code",
   "execution_count": 7,
   "id": "dd600f34-be64-4f91-83a4-7276a7b9dae6",
   "metadata": {},
   "outputs": [],
   "source": [
    "# openai.api_key = os.getenv(\"openaikey\")"
   ]
  },
  {
   "cell_type": "code",
   "execution_count": null,
   "id": "87fbbeb6-06b0-47ac-9352-be13b300658e",
   "metadata": {},
   "outputs": [],
   "source": [
    "response = openai.Completion.create(\n",
    "    model = \"model from open ai\",\n",
    "    prompt = \"Some questions\",\n",
    "    max_tokens = 300,\n",
    ")"
   ]
  },
  {
   "cell_type": "code",
   "execution_count": null,
   "id": "ecba1017-eee3-44e0-a329-a1f3af691bbe",
   "metadata": {},
   "outputs": [],
   "source": [
    "print(response[\"choices\"][0][\"text\"])"
   ]
  }
 ],
 "metadata": {
  "kernelspec": {
   "display_name": "Python 3 (ipykernel)",
   "language": "python",
   "name": "python3"
  },
  "language_info": {
   "codemirror_mode": {
    "name": "ipython",
    "version": 3
   },
   "file_extension": ".py",
   "mimetype": "text/x-python",
   "name": "python",
   "nbconvert_exporter": "python",
   "pygments_lexer": "ipython3",
   "version": "3.11.5"
  }
 },
 "nbformat": 4,
 "nbformat_minor": 5
}
