{
 "cells": [
  {
   "cell_type": "code",
   "execution_count": 1,
   "id": "7b464540-13b1-4709-8149-f5aef7a503b3",
   "metadata": {},
   "outputs": [],
   "source": [
    "# import libraries\n",
    "import pandas as pd\n",
    "import numpy as np\n",
    "import statsmodels.api as sm\n",
    "import matplotlib.pyplot as plt\n",
    "import seaborn as sns"
   ]
  },
  {
   "cell_type": "code",
   "execution_count": 2,
   "id": "8bbb9d21-77f2-411b-9bd2-2e901dad40f0",
   "metadata": {},
   "outputs": [
    {
     "data": {
      "text/html": [
       "<div>\n",
       "<style scoped>\n",
       "    .dataframe tbody tr th:only-of-type {\n",
       "        vertical-align: middle;\n",
       "    }\n",
       "\n",
       "    .dataframe tbody tr th {\n",
       "        vertical-align: top;\n",
       "    }\n",
       "\n",
       "    .dataframe thead th {\n",
       "        text-align: right;\n",
       "    }\n",
       "</style>\n",
       "<table border=\"1\" class=\"dataframe\">\n",
       "  <thead>\n",
       "    <tr style=\"text-align: right;\">\n",
       "      <th></th>\n",
       "      <th>crl.tot</th>\n",
       "      <th>dollar</th>\n",
       "      <th>bang</th>\n",
       "      <th>money</th>\n",
       "      <th>n000</th>\n",
       "      <th>make</th>\n",
       "      <th>yesno</th>\n",
       "    </tr>\n",
       "  </thead>\n",
       "  <tbody>\n",
       "    <tr>\n",
       "      <th>0</th>\n",
       "      <td>278</td>\n",
       "      <td>0.000</td>\n",
       "      <td>0.778</td>\n",
       "      <td>0.00</td>\n",
       "      <td>0.00</td>\n",
       "      <td>0.00</td>\n",
       "      <td>y</td>\n",
       "    </tr>\n",
       "    <tr>\n",
       "      <th>1</th>\n",
       "      <td>1028</td>\n",
       "      <td>0.180</td>\n",
       "      <td>0.372</td>\n",
       "      <td>0.43</td>\n",
       "      <td>0.43</td>\n",
       "      <td>0.21</td>\n",
       "      <td>y</td>\n",
       "    </tr>\n",
       "    <tr>\n",
       "      <th>2</th>\n",
       "      <td>2259</td>\n",
       "      <td>0.184</td>\n",
       "      <td>0.276</td>\n",
       "      <td>0.06</td>\n",
       "      <td>1.16</td>\n",
       "      <td>0.06</td>\n",
       "      <td>y</td>\n",
       "    </tr>\n",
       "    <tr>\n",
       "      <th>3</th>\n",
       "      <td>191</td>\n",
       "      <td>0.000</td>\n",
       "      <td>0.137</td>\n",
       "      <td>0.00</td>\n",
       "      <td>0.00</td>\n",
       "      <td>0.00</td>\n",
       "      <td>y</td>\n",
       "    </tr>\n",
       "    <tr>\n",
       "      <th>4</th>\n",
       "      <td>191</td>\n",
       "      <td>0.000</td>\n",
       "      <td>0.135</td>\n",
       "      <td>0.00</td>\n",
       "      <td>0.00</td>\n",
       "      <td>0.00</td>\n",
       "      <td>y</td>\n",
       "    </tr>\n",
       "  </tbody>\n",
       "</table>\n",
       "</div>"
      ],
      "text/plain": [
       "   crl.tot  dollar   bang  money  n000  make yesno\n",
       "0      278   0.000  0.778   0.00  0.00  0.00     y\n",
       "1     1028   0.180  0.372   0.43  0.43  0.21     y\n",
       "2     2259   0.184  0.276   0.06  1.16  0.06     y\n",
       "3      191   0.000  0.137   0.00  0.00  0.00     y\n",
       "4      191   0.000  0.135   0.00  0.00  0.00     y"
      ]
     },
     "execution_count": 2,
     "metadata": {},
     "output_type": "execute_result"
    }
   ],
   "source": [
    "# load the data\n",
    "df = pd.read_csv('spam.csv')\n",
    "df.head()"
   ]
  },
  {
   "cell_type": "markdown",
   "id": "e2cb45ac-f58b-4a02-8eba-10a0f52b6890",
   "metadata": {},
   "source": [
    "特征：\n",
    "\n",
    "- crltot：字数\n",
    "- dollar：美元符号个数\n",
    "- bang：惊叹号个数\n",
    "- money：money单词数量\n",
    "- n000：000字符的数量\n",
    "- make：make单词的数量\n",
    "- yesno：label"
   ]
  },
  {
   "cell_type": "code",
   "execution_count": 3,
   "id": "6362d38e-bae8-4898-b12e-54b017a8f03f",
   "metadata": {},
   "outputs": [
    {
     "name": "stdout",
     "output_type": "stream",
     "text": [
      "<class 'pandas.core.frame.DataFrame'>\n",
      "RangeIndex: 4601 entries, 0 to 4600\n",
      "Data columns (total 7 columns):\n",
      " #   Column   Non-Null Count  Dtype  \n",
      "---  ------   --------------  -----  \n",
      " 0   crl.tot  4601 non-null   int64  \n",
      " 1   dollar   4601 non-null   float64\n",
      " 2   bang     4601 non-null   float64\n",
      " 3   money    4601 non-null   float64\n",
      " 4   n000     4601 non-null   float64\n",
      " 5   make     4601 non-null   float64\n",
      " 6   yesno    4601 non-null   object \n",
      "dtypes: float64(5), int64(1), object(1)\n",
      "memory usage: 251.7+ KB\n"
     ]
    }
   ],
   "source": [
    "# get info\n",
    "df.info()"
   ]
  },
  {
   "cell_type": "code",
   "execution_count": 4,
   "id": "82488340-3575-46b9-b84a-67a6d2abf4d0",
   "metadata": {},
   "outputs": [
    {
     "data": {
      "text/html": [
       "<div>\n",
       "<style scoped>\n",
       "    .dataframe tbody tr th:only-of-type {\n",
       "        vertical-align: middle;\n",
       "    }\n",
       "\n",
       "    .dataframe tbody tr th {\n",
       "        vertical-align: top;\n",
       "    }\n",
       "\n",
       "    .dataframe thead th {\n",
       "        text-align: right;\n",
       "    }\n",
       "</style>\n",
       "<table border=\"1\" class=\"dataframe\">\n",
       "  <thead>\n",
       "    <tr style=\"text-align: right;\">\n",
       "      <th></th>\n",
       "      <th>crl.tot</th>\n",
       "      <th>dollar</th>\n",
       "      <th>bang</th>\n",
       "      <th>money</th>\n",
       "      <th>n000</th>\n",
       "      <th>make</th>\n",
       "    </tr>\n",
       "  </thead>\n",
       "  <tbody>\n",
       "    <tr>\n",
       "      <th>count</th>\n",
       "      <td>4601.000000</td>\n",
       "      <td>4601.000000</td>\n",
       "      <td>4601.000000</td>\n",
       "      <td>4601.000000</td>\n",
       "      <td>4601.000000</td>\n",
       "      <td>4601.000000</td>\n",
       "    </tr>\n",
       "    <tr>\n",
       "      <th>mean</th>\n",
       "      <td>283.289285</td>\n",
       "      <td>0.075811</td>\n",
       "      <td>0.269071</td>\n",
       "      <td>0.094269</td>\n",
       "      <td>0.101645</td>\n",
       "      <td>0.104553</td>\n",
       "    </tr>\n",
       "    <tr>\n",
       "      <th>std</th>\n",
       "      <td>606.347851</td>\n",
       "      <td>0.245882</td>\n",
       "      <td>0.815672</td>\n",
       "      <td>0.442636</td>\n",
       "      <td>0.350286</td>\n",
       "      <td>0.305358</td>\n",
       "    </tr>\n",
       "    <tr>\n",
       "      <th>min</th>\n",
       "      <td>1.000000</td>\n",
       "      <td>0.000000</td>\n",
       "      <td>0.000000</td>\n",
       "      <td>0.000000</td>\n",
       "      <td>0.000000</td>\n",
       "      <td>0.000000</td>\n",
       "    </tr>\n",
       "    <tr>\n",
       "      <th>25%</th>\n",
       "      <td>35.000000</td>\n",
       "      <td>0.000000</td>\n",
       "      <td>0.000000</td>\n",
       "      <td>0.000000</td>\n",
       "      <td>0.000000</td>\n",
       "      <td>0.000000</td>\n",
       "    </tr>\n",
       "    <tr>\n",
       "      <th>50%</th>\n",
       "      <td>95.000000</td>\n",
       "      <td>0.000000</td>\n",
       "      <td>0.000000</td>\n",
       "      <td>0.000000</td>\n",
       "      <td>0.000000</td>\n",
       "      <td>0.000000</td>\n",
       "    </tr>\n",
       "    <tr>\n",
       "      <th>75%</th>\n",
       "      <td>266.000000</td>\n",
       "      <td>0.052000</td>\n",
       "      <td>0.315000</td>\n",
       "      <td>0.000000</td>\n",
       "      <td>0.000000</td>\n",
       "      <td>0.000000</td>\n",
       "    </tr>\n",
       "    <tr>\n",
       "      <th>max</th>\n",
       "      <td>15841.000000</td>\n",
       "      <td>6.003000</td>\n",
       "      <td>32.478000</td>\n",
       "      <td>12.500000</td>\n",
       "      <td>5.450000</td>\n",
       "      <td>4.540000</td>\n",
       "    </tr>\n",
       "  </tbody>\n",
       "</table>\n",
       "</div>"
      ],
      "text/plain": [
       "            crl.tot       dollar         bang        money         n000  \\\n",
       "count   4601.000000  4601.000000  4601.000000  4601.000000  4601.000000   \n",
       "mean     283.289285     0.075811     0.269071     0.094269     0.101645   \n",
       "std      606.347851     0.245882     0.815672     0.442636     0.350286   \n",
       "min        1.000000     0.000000     0.000000     0.000000     0.000000   \n",
       "25%       35.000000     0.000000     0.000000     0.000000     0.000000   \n",
       "50%       95.000000     0.000000     0.000000     0.000000     0.000000   \n",
       "75%      266.000000     0.052000     0.315000     0.000000     0.000000   \n",
       "max    15841.000000     6.003000    32.478000    12.500000     5.450000   \n",
       "\n",
       "              make  \n",
       "count  4601.000000  \n",
       "mean      0.104553  \n",
       "std       0.305358  \n",
       "min       0.000000  \n",
       "25%       0.000000  \n",
       "50%       0.000000  \n",
       "75%       0.000000  \n",
       "max       4.540000  "
      ]
     },
     "execution_count": 4,
     "metadata": {},
     "output_type": "execute_result"
    }
   ],
   "source": [
    "# statistic info\n",
    "df.describe()"
   ]
  },
  {
   "cell_type": "code",
   "execution_count": 5,
   "id": "a37ebca3-9c98-4ef2-8aad-b34ea39ecc2c",
   "metadata": {},
   "outputs": [
    {
     "data": {
      "image/png": "[encoded data removed]",
      "text/plain": [
       "<Figure size 1500x1000 with 6 Axes>"
      ]
     },
     "metadata": {},
     "output_type": "display_data"
    }
   ],
   "source": [
    "# histgrams\n",
    "df.hist(figsize=(15, 10))\n",
    "plt.show()"
   ]
  },
  {
   "cell_type": "code",
   "execution_count": 6,
   "id": "25801b98-126e-4d26-8f1f-863e5b942b03",
   "metadata": {},
   "outputs": [
    {
     "name": "stdout",
     "output_type": "stream",
     "text": [
      "4601\n",
      "4412\n"
     ]
    }
   ],
   "source": [
    "# remove the outlier\n",
    "# Removing outliers\n",
    "print(len(df))\n",
    "df = df[df['crl.tot'] < 1500]\n",
    "df = df[df['bang'] < 3]\n",
    "df = df[df['money'] < 4]\n",
    "print(len(df))"
   ]
  },
  {
   "cell_type": "code",
   "execution_count": 10,
   "id": "70bd7dad-32bd-4131-9ea2-bc4c982ac608",
   "metadata": {},
   "outputs": [
    {
     "data": {
      "image/png": "[encoded data removed]",
      "text/plain": [
       "<Figure size 640x480 with 2 Axes>"
      ]
     },
     "metadata": {},
     "output_type": "display_data"
    }
   ],
   "source": [
    "# correlation matrix\n",
    "sns.heatmap(\n",
    "    df.corr(numeric_only=True),\n",
    "    annot = True,\n",
    "    cmap = 'Blues',\n",
    "    center = 0\n",
    ")\n",
    "plt.show()"
   ]
  },
  {
   "cell_type": "code",
   "execution_count": 12,
   "id": "2fbce5ca-aaf1-40c6-bf91-9c28191ba4c8",
   "metadata": {},
   "outputs": [],
   "source": [
    "# prepare the dependent variable for logistic regression\n",
    "df['yesno'] = np.where(df['yesno'] == 'y', 1, 0)"
   ]
  },
  {
   "cell_type": "code",
   "execution_count": 13,
   "id": "7df27c1b-ff2c-4e48-9699-bef9f152df64",
   "metadata": {},
   "outputs": [],
   "source": [
    "# isolate X and y\n",
    "y = df.yesno\n",
    "X = df.drop(columns=['yesno'])\n",
    "X = sm.add_constant(X)"
   ]
  },
  {
   "cell_type": "code",
   "execution_count": 14,
   "id": "9fc68db3-4ec4-4874-a1ed-0ab06c78ff08",
   "metadata": {},
   "outputs": [
    {
     "data": {
      "text/html": [
       "<div>\n",
       "<style scoped>\n",
       "    .dataframe tbody tr th:only-of-type {\n",
       "        vertical-align: middle;\n",
       "    }\n",
       "\n",
       "    .dataframe tbody tr th {\n",
       "        vertical-align: top;\n",
       "    }\n",
       "\n",
       "    .dataframe thead th {\n",
       "        text-align: right;\n",
       "    }\n",
       "</style>\n",
       "<table border=\"1\" class=\"dataframe\">\n",
       "  <thead>\n",
       "    <tr style=\"text-align: right;\">\n",
       "      <th></th>\n",
       "      <th>const</th>\n",
       "      <th>crl.tot</th>\n",
       "      <th>dollar</th>\n",
       "      <th>bang</th>\n",
       "      <th>money</th>\n",
       "      <th>n000</th>\n",
       "      <th>make</th>\n",
       "    </tr>\n",
       "  </thead>\n",
       "  <tbody>\n",
       "    <tr>\n",
       "      <th>0</th>\n",
       "      <td>1.0</td>\n",
       "      <td>278</td>\n",
       "      <td>0.00</td>\n",
       "      <td>0.778</td>\n",
       "      <td>0.00</td>\n",
       "      <td>0.00</td>\n",
       "      <td>0.00</td>\n",
       "    </tr>\n",
       "    <tr>\n",
       "      <th>1</th>\n",
       "      <td>1.0</td>\n",
       "      <td>1028</td>\n",
       "      <td>0.18</td>\n",
       "      <td>0.372</td>\n",
       "      <td>0.43</td>\n",
       "      <td>0.43</td>\n",
       "      <td>0.21</td>\n",
       "    </tr>\n",
       "    <tr>\n",
       "      <th>3</th>\n",
       "      <td>1.0</td>\n",
       "      <td>191</td>\n",
       "      <td>0.00</td>\n",
       "      <td>0.137</td>\n",
       "      <td>0.00</td>\n",
       "      <td>0.00</td>\n",
       "      <td>0.00</td>\n",
       "    </tr>\n",
       "    <tr>\n",
       "      <th>4</th>\n",
       "      <td>1.0</td>\n",
       "      <td>191</td>\n",
       "      <td>0.00</td>\n",
       "      <td>0.135</td>\n",
       "      <td>0.00</td>\n",
       "      <td>0.00</td>\n",
       "      <td>0.00</td>\n",
       "    </tr>\n",
       "    <tr>\n",
       "      <th>5</th>\n",
       "      <td>1.0</td>\n",
       "      <td>54</td>\n",
       "      <td>0.00</td>\n",
       "      <td>0.000</td>\n",
       "      <td>0.00</td>\n",
       "      <td>0.00</td>\n",
       "      <td>0.00</td>\n",
       "    </tr>\n",
       "  </tbody>\n",
       "</table>\n",
       "</div>"
      ],
      "text/plain": [
       "   const  crl.tot  dollar   bang  money  n000  make\n",
       "0    1.0      278    0.00  0.778   0.00  0.00  0.00\n",
       "1    1.0     1028    0.18  0.372   0.43  0.43  0.21\n",
       "3    1.0      191    0.00  0.137   0.00  0.00  0.00\n",
       "4    1.0      191    0.00  0.135   0.00  0.00  0.00\n",
       "5    1.0       54    0.00  0.000   0.00  0.00  0.00"
      ]
     },
     "execution_count": 14,
     "metadata": {},
     "output_type": "execute_result"
    }
   ],
   "source": [
    "X.head()"
   ]
  },
  {
   "cell_type": "code",
   "execution_count": 15,
   "id": "03b45771-e2c0-4d4a-bad2-3b8d9a8cb563",
   "metadata": {},
   "outputs": [],
   "source": [
    "# train and test split \n",
    "from sklearn.model_selection import train_test_split\n",
    "X_train, X_test, y_train, y_test = train_test_split(\n",
    "    X,\n",
    "    y,\n",
    "    test_size = 0.2,\n",
    "    random_state=42\n",
    ")"
   ]
  },
  {
   "cell_type": "code",
   "execution_count": 16,
   "id": "ccbef64c-b8d2-41b3-9a6d-a810220475b1",
   "metadata": {},
   "outputs": [
    {
     "name": "stdout",
     "output_type": "stream",
     "text": [
      "Optimization terminated successfully.\n",
      "         Current function value: 0.391139\n",
      "         Iterations 8\n",
      "                           Logit Regression Results                           \n",
      "==============================================================================\n",
      "Dep. Variable:                  yesno   No. Observations:                 3529\n",
      "Model:                          Logit   Df Residuals:                     3522\n",
      "Method:                           MLE   Df Model:                            6\n",
      "Date:                Sun, 10 Mar 2024   Pseudo R-squ.:                  0.4085\n",
      "Time:                        08:54:07   Log-Likelihood:                -1380.3\n",
      "converged:                       True   LL-Null:                       -2333.4\n",
      "Covariance Type:            nonrobust   LLR p-value:                     0.000\n",
      "==============================================================================\n",
      "                 coef    std err          z      P>|z|      [0.025      0.975]\n",
      "------------------------------------------------------------------------------\n",
      "const         -2.1970      0.074    -29.815      0.000      -2.341      -2.053\n",
      "crl.tot        0.0017      0.000      9.047      0.000       0.001       0.002\n",
      "dollar         6.3964      0.675      9.482      0.000       5.074       7.719\n",
      "bang           3.4512      0.189     18.271      0.000       3.081       3.821\n",
      "money          3.2515      0.358      9.073      0.000       2.549       3.954\n",
      "n000           3.2926      0.439      7.501      0.000       2.432       4.153\n",
      "make           0.0812      0.175      0.464      0.643      -0.262       0.424\n",
      "==============================================================================\n"
     ]
    }
   ],
   "source": [
    "# logistic regression\n",
    "model = sm.Logit(y_train, X_train).fit()\n",
    "print(model.summary())"
   ]
  },
  {
   "cell_type": "code",
   "execution_count": 17,
   "id": "8267f8a8-99de-45ab-b704-ce7581ed1edb",
   "metadata": {},
   "outputs": [],
   "source": [
    "# Coefficient Function \n",
    "def interpret_logistic_regression(model):\n",
    "    \"\"\"\n",
    "    Interprets the coefficients of a logistic regression model fitted using statsmodels.\n",
    "    The interpretation is provided in terms of the percentage increase in odds for the event to happen.\n",
    "    The function automatically detects binary variables and provides information about statistical significance.\n",
    "\n",
    "    Parameters:\n",
    "    model : statsmodels.discrete.discrete_model.LogitResultsWrapper\n",
    "        The fitted logistic regression model.\n",
    "\n",
    "    Example usage:\n",
    "        import statsmodels.api as sm\n",
    "        X = sm.add_constant(data[['feature1', 'feature2']])\n",
    "        y = data['binary_outcome']\n",
    "        model = sm.Logit(y, X).fit()\n",
    "        interpret_logistic_regression(model)\n",
    "    \"\"\"\n",
    "    variables = model.model.exog_names[1:]  # Exclude the constant\n",
    "    params = model.params[1:]  # Exclude the constant\n",
    "    pvalues = model.pvalues[1:]  # Exclude the constant\n",
    "\n",
    "    # Identify binary variables by checking if the min and max of the exogenous variable are 0 and 1\n",
    "    binary_vars = [var for var, values in zip(variables, model.model.exog[:, 1:].T) if min(values) == 0 and max(values) == 1]\n",
    "\n",
    "    for variable, coef, pvalue in zip(variables, params, pvalues):\n",
    "        print('-' * 50)\n",
    "\n",
    "        # Calculate percentage increase in odds\n",
    "        percentage_increase = (np.exp(coef) - 1) * 100\n",
    "\n",
    "        if variable in binary_vars:\n",
    "            print(f\"For the binary variable '{variable}':\")\n",
    "            print(f\"  - If this variable changes from 0 to 1, the odds of the event happening increase by {percentage_increase:.2f}%.\")\n",
    "        else:\n",
    "            print(f\"For the continuous variable '{variable}':\")\n",
    "            print(f\"  - A unit increase in this variable increases the odds of the event happening by {percentage_increase:.2f}%.\")\n",
    "\n",
    "        # Check for statistical significance\n",
    "        if pvalue < 0.05:\n",
    "            print(\"  - This variable is statistically significant at the 0.05 level.\")\n",
    "        else:\n",
    "            print(\"  - This variable is not statistically significant at the 0.05 level.\")\n",
    "\n",
    "    print('-' * 50)"
   ]
  },
  {
   "cell_type": "code",
   "execution_count": 18,
   "id": "719b9c2a-7b6f-4439-ae67-fb5dc411c433",
   "metadata": {},
   "outputs": [
    {
     "name": "stdout",
     "output_type": "stream",
     "text": [
      "--------------------------------------------------\n",
      "For the continuous variable 'crl.tot':\n",
      "  - A unit increase in this variable increases the odds of the event happening by 0.17%.\n",
      "  - This variable is statistically significant at the 0.05 level.\n",
      "--------------------------------------------------\n",
      "For the continuous variable 'dollar':\n",
      "  - A unit increase in this variable increases the odds of the event happening by 59868.63%.\n",
      "  - This variable is statistically significant at the 0.05 level.\n",
      "--------------------------------------------------\n",
      "For the continuous variable 'bang':\n",
      "  - A unit increase in this variable increases the odds of the event happening by 3053.87%.\n",
      "  - This variable is statistically significant at the 0.05 level.\n",
      "--------------------------------------------------\n",
      "For the continuous variable 'money':\n",
      "  - A unit increase in this variable increases the odds of the event happening by 2482.81%.\n",
      "  - This variable is statistically significant at the 0.05 level.\n",
      "--------------------------------------------------\n",
      "For the continuous variable 'n000':\n",
      "  - A unit increase in this variable increases the odds of the event happening by 2591.22%.\n",
      "  - This variable is statistically significant at the 0.05 level.\n",
      "--------------------------------------------------\n",
      "For the continuous variable 'make':\n",
      "  - A unit increase in this variable increases the odds of the event happening by 8.46%.\n",
      "  - This variable is not statistically significant at the 0.05 level.\n",
      "--------------------------------------------------\n"
     ]
    }
   ],
   "source": [
    "# Apply the function:\n",
    "interpret_logistic_regression(model)"
   ]
  },
  {
   "cell_type": "code",
   "execution_count": 20,
   "id": "f444a30b-8512-4209-a458-c76130e186cf",
   "metadata": {},
   "outputs": [
    {
     "data": {
      "text/plain": [
       "array([0, 0, 0, 0, 1, 0, 0, 0, 0, 0, 0, 0, 0, 1, 0, 1, 0, 0, 1, 0, 1, 0,\n",
       "       1, 1, 1, 0, 1, 0, 0, 0, 0, 1, 0, 1, 0, 0, 0, 0, 0, 0, 0, 0, 0, 0,\n",
       "       0, 1, 0, 0, 1, 0, 0, 1, 1, 1, 0, 0, 0, 0, 0, 1, 0, 0, 0, 0, 0, 0,\n",
       "       1, 0, 0, 0, 0, 0, 0, 0, 0, 0, 1, 0, 0, 0, 0, 0, 0, 0, 0, 0, 1, 0,\n",
       "       0, 0, 0, 0, 0, 1, 1, 0, 1, 0, 0, 1, 0, 1, 0, 0, 0, 1, 1, 0, 0, 0,\n",
       "       0, 0, 1, 1, 1, 1, 0, 0, 0, 1, 1, 0, 0, 0, 0, 0, 1, 1, 0, 0, 0, 0,\n",
       "       0, 0, 0, 0, 0, 0, 1, 0, 1, 1, 0, 0, 0, 0, 0, 1, 0, 0, 0, 0, 0, 0,\n",
       "       0, 1, 0, 0, 0, 0, 1, 1, 0, 0, 0, 1, 0, 0, 0, 0, 0, 0, 0, 1, 1, 1,\n",
       "       0, 0, 0, 0, 0, 0, 0, 1, 1, 1, 0, 0, 0, 0, 0, 0, 0, 1, 0, 0, 0, 1,\n",
       "       0, 0, 0, 1, 1, 0, 0, 1, 0, 0, 1, 0, 0, 0, 0, 0, 1, 0, 0, 1, 0, 0,\n",
       "       0, 1, 0, 0, 1, 0, 1, 0, 1, 1, 0, 0, 0, 0, 1, 1, 1, 1, 1, 1, 1, 0,\n",
       "       0, 0, 0, 0, 0, 0, 0, 0, 0, 0, 0, 0, 1, 0, 0, 0, 0, 0, 1, 1, 1, 0,\n",
       "       0, 1, 0, 0, 0, 0, 0, 1, 0, 0, 0, 1, 0, 0, 0, 0, 0, 0, 0, 0, 0, 1,\n",
       "       0, 0, 1, 1, 1, 0, 1, 0, 1, 0, 0, 0, 0, 0, 0, 0, 0, 0, 0, 1, 0, 0,\n",
       "       0, 0, 0, 0, 1, 0, 1, 0, 1, 1, 0, 1, 1, 1, 1, 1, 1, 1, 0, 0, 1, 0,\n",
       "       1, 1, 0, 0, 1, 0, 0, 0, 1, 1, 1, 0, 1, 1, 0, 1, 1, 1, 0, 0, 1, 1,\n",
       "       1, 1, 0, 0, 0, 0, 1, 0, 0, 0, 0, 0, 0, 1, 0, 0, 0, 0, 0, 0, 1, 1,\n",
       "       1, 0, 1, 0, 0, 1, 1, 1, 0, 1, 0, 1, 1, 0, 1, 0, 1, 0, 1, 1, 0, 1,\n",
       "       0, 1, 0, 1, 0, 0, 1, 1, 1, 0, 0, 0, 1, 0, 0, 1, 0, 1, 0, 1, 1, 1,\n",
       "       0, 0, 1, 1, 0, 0, 1, 0, 0, 0, 0, 1, 0, 1, 0, 0, 1, 0, 0, 0, 0, 1,\n",
       "       0, 1, 0, 0, 1, 0, 0, 0, 1, 1, 0, 0, 0, 0, 0, 1, 0, 0, 0, 1, 0, 1,\n",
       "       1, 0, 1, 0, 0, 1, 1, 0, 1, 1, 0, 0, 0, 1, 0, 0, 0, 1, 1, 0, 0, 0,\n",
       "       0, 0, 0, 0, 0, 0, 1, 0, 1, 0, 0, 0, 0, 1, 1, 0, 0, 0, 0, 0, 0, 1,\n",
       "       0, 1, 0, 0, 1, 0, 1, 1, 1, 1, 0, 1, 0, 1, 0, 0, 0, 0, 0, 1, 0, 0,\n",
       "       0, 0, 1, 1, 0, 0, 0, 0, 0, 1, 1, 0, 0, 1, 0, 1, 1, 0, 1, 1, 1, 0,\n",
       "       0, 1, 0, 0, 0, 1, 0, 1, 0, 1, 0, 0, 0, 0, 1, 1, 0, 1, 1, 1, 0, 1,\n",
       "       0, 1, 1, 0, 1, 0, 0, 1, 0, 0, 0, 0, 0, 0, 0, 0, 0, 1, 0, 1, 1, 0,\n",
       "       0, 1, 0, 0, 0, 0, 0, 1, 0, 1, 1, 0, 0, 1, 1, 0, 0, 0, 0, 0, 0, 0,\n",
       "       1, 1, 0, 0, 0, 0, 0, 0, 0, 1, 1, 0, 0, 0, 0, 0, 1, 0, 0, 0, 1, 1,\n",
       "       1, 0, 1, 1, 0, 0, 1, 0, 0, 0, 0, 0, 0, 0, 0, 0, 1, 1, 0, 0, 1, 0,\n",
       "       1, 0, 0, 0, 0, 1, 0, 0, 0, 0, 0, 1, 0, 1, 0, 0, 0, 0, 0, 0, 0, 0,\n",
       "       0, 1, 0, 0, 0, 0, 0, 0, 0, 1, 1, 0, 0, 0, 0, 0, 0, 1, 0, 0, 0, 1,\n",
       "       1, 0, 0, 0, 1, 1, 1, 0, 1, 0, 0, 0, 0, 0, 0, 0, 0, 1, 0, 1, 0, 0,\n",
       "       0, 1, 1, 0, 0, 0, 1, 1, 0, 0, 0, 0, 0, 0, 0, 0, 0, 1, 0, 0, 0, 0,\n",
       "       0, 0, 1, 1, 1, 0, 0, 0, 0, 0, 1, 0, 0, 0, 0, 0, 0, 1, 0, 0, 0, 0,\n",
       "       0, 0, 0, 0, 0, 1, 0, 0, 1, 0, 0, 1, 1, 0, 0, 0, 0, 0, 0, 0, 0, 0,\n",
       "       0, 0, 0, 0, 1, 1, 0, 1, 0, 1, 0, 0, 0, 0, 0, 0, 1, 0, 1, 0, 0, 0,\n",
       "       0, 0, 1, 1, 0, 0, 1, 1, 0, 0, 0, 1, 0, 1, 0, 0, 1, 0, 0, 1, 0, 1,\n",
       "       0, 1, 0, 0, 0, 0, 1, 1, 0, 1, 1, 0, 1, 1, 0, 1, 0, 0, 0, 0, 1, 1,\n",
       "       1, 0, 0, 0, 1, 0, 0, 0, 1, 0, 0, 0, 1, 0, 0, 1, 1, 0, 0, 0, 0, 1,\n",
       "       0, 0, 0])"
      ]
     },
     "execution_count": 20,
     "metadata": {},
     "output_type": "execute_result"
    }
   ],
   "source": [
    "# predictions\n",
    "predictions = model.predict(X_test)\n",
    "predictions = np.where(predictions > 0.5, 1, 0)\n",
    "predictions"
   ]
  },
  {
   "cell_type": "code",
   "execution_count": 21,
   "id": "405a2d7c-3110-4af1-bc6f-f92f77400921",
   "metadata": {},
   "outputs": [
    {
     "data": {
      "text/plain": [
       "0.40090600226500567"
      ]
     },
     "execution_count": 21,
     "metadata": {},
     "output_type": "execute_result"
    }
   ],
   "source": [
    "# check if y is imbalanced\n",
    "y_test.mean()"
   ]
  },
  {
   "cell_type": "code",
   "execution_count": 22,
   "id": "6ba7bab7-d9d6-4a9d-b80f-66937ec8ae1e",
   "metadata": {},
   "outputs": [
    {
     "data": {
      "text/plain": [
       "array([[496,  33],\n",
       "       [103, 251]])"
      ]
     },
     "execution_count": 22,
     "metadata": {},
     "output_type": "execute_result"
    }
   ],
   "source": [
    "# confusion matrix\n",
    "from sklearn.metrics import confusion_matrix\n",
    "confusion_matrix(y_test, predictions)"
   ]
  },
  {
   "cell_type": "code",
   "execution_count": 24,
   "id": "66fc104d-2536-4028-8c2a-7f3b5a950ee2",
   "metadata": {},
   "outputs": [
    {
     "name": "stdout",
     "output_type": "stream",
     "text": [
      "              precision    recall  f1-score   support\n",
      "\n",
      "           0       0.83      0.94      0.88       529\n",
      "           1       0.88      0.71      0.79       354\n",
      "\n",
      "    accuracy                           0.85       883\n",
      "   macro avg       0.86      0.82      0.83       883\n",
      "weighted avg       0.85      0.85      0.84       883\n",
      "\n"
     ]
    }
   ],
   "source": [
    "# classification report\n",
    "from sklearn.metrics import classification_report\n",
    "print(classification_report(y_test, predictions))"
   ]
  },
  {
   "cell_type": "code",
   "execution_count": 25,
   "id": "0fd5f254-fb1c-4b1e-b8c5-5f8ed8a638f1",
   "metadata": {},
   "outputs": [],
   "source": [
    "# create a function that computes the 4 KPIs for classification problem\n",
    "from sklearn.metrics import confusion_matrix, accuracy_score, f1_score\n",
    "\n",
    "def evaluate_classification_model(y_true, y_pred):\n",
    "    \"\"\"\n",
    "    Evaluates a classification model by computing the accuracy, F1-score, sensitivity, and specificity.\n",
    "\n",
    "    Parameters:\n",
    "    y_true : array-like\n",
    "        True labels of the samples.\n",
    "    y_pred : array-like\n",
    "        Predicted labels of the samples.\n",
    "\n",
    "    Example usage:\n",
    "        y_true = [1, 0, 1, 1, 0]\n",
    "        y_pred = [1, 0, 0, 1, 1]\n",
    "        evaluate_classification_model(y_true, y_pred)\n",
    "    \"\"\"\n",
    "\n",
    "    # Confusion Matrix\n",
    "    tn, fp, fn, tp = confusion_matrix(y_true, y_pred).ravel()\n",
    "\n",
    "    # Accuracy\n",
    "    accuracy = accuracy_score(y_true, y_pred)\n",
    "    print(\"Accuracy:\")\n",
    "    print(\"  - Measures the proportion of correctly classified instances out of the total instances.\")\n",
    "    print(f\"  - Result: {accuracy:.2f}\\n\")\n",
    "\n",
    "    # F1-Score\n",
    "    f1 = f1_score(y_true, y_pred)\n",
    "    print(\"F1-Score:\")\n",
    "    print(\"  - Harmonic mean of precision and recall, balances both false positives and false negatives.\")\n",
    "    print(f\"  - Result: {f1:.2f}\\n\")\n",
    "\n",
    "    # Sensitivity (Recall)\n",
    "    sensitivity = tp / (tp + fn)\n",
    "    print(\"Sensitivity (Recall):\")\n",
    "    print(\"  - Measures the proportion of actual positives that are correctly identified as such.\")\n",
    "    print(f\"  - Result: {sensitivity:.2f}\\n\")\n",
    "\n",
    "    # Specificity\n",
    "    specificity = tn / (tn + fp)\n",
    "    print(\"Specificity:\")\n",
    "    print(\"  - Measures the proportion of actual negatives that are correctly identified as such.\")\n",
    "    print(f\"  - Result: {specificity:.2f}\\n\")"
   ]
  },
  {
   "cell_type": "code",
   "execution_count": 26,
   "id": "47fa5522-ff5d-4948-ad24-54c46eea101b",
   "metadata": {},
   "outputs": [
    {
     "name": "stdout",
     "output_type": "stream",
     "text": [
      "Accuracy:\n",
      "  - Measures the proportion of correctly classified instances out of the total instances.\n",
      "  - Result: 0.85\n",
      "\n",
      "F1-Score:\n",
      "  - Harmonic mean of precision and recall, balances both false positives and false negatives.\n",
      "  - Result: 0.79\n",
      "\n",
      "Sensitivity (Recall):\n",
      "  - Measures the proportion of actual positives that are correctly identified as such.\n",
      "  - Result: 0.71\n",
      "\n",
      "Specificity:\n",
      "  - Measures the proportion of actual negatives that are correctly identified as such.\n",
      "  - Result: 0.94\n",
      "\n"
     ]
    }
   ],
   "source": [
    "# apply the function\n",
    "evaluate_classification_model(y_test, predictions)"
   ]
  },
  {
   "cell_type": "code",
   "execution_count": null,
   "id": "40e9b54d-b043-4dd6-8ef9-23e3f8ef49f5",
   "metadata": {},
   "outputs": [],
   "source": []
  }
 ],
 "metadata": {
  "kernelspec": {
   "display_name": "Python 3 (ipykernel)",
   "language": "python",
   "name": "python3"
  },
  "language_info": {
   "codemirror_mode": {
    "name": "ipython",
    "version": 3
   },
   "file_extension": ".py",
   "mimetype": "text/x-python",
   "name": "python",
   "nbconvert_exporter": "python",
   "pygments_lexer": "ipython3",
   "version": "3.11.5"
  }
 },
 "nbformat": 4,
 "nbformat_minor": 5
}
