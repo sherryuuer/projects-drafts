{
 "cells": [
  {
   "cell_type": "code",
   "execution_count": 1,
   "id": "fbfa97aa",
   "metadata": {},
   "outputs": [
    {
     "name": "stderr",
     "output_type": "stream",
     "text": [
      "C:\\Users\\sherr\\Desktop\\MLANN\\imageAI\\env\\Lib\\site-packages\\torchvision\\models\\_utils.py:208: UserWarning: The parameter 'pretrained' is deprecated since 0.13 and may be removed in the future, please use 'weights' instead.\n",
      "  warnings.warn(\n",
      "C:\\Users\\sherr\\Desktop\\MLANN\\imageAI\\env\\Lib\\site-packages\\torchvision\\models\\_utils.py:223: UserWarning: Arguments other than a weight enum or `None` for 'weights' are deprecated since 0.13 and may be removed in the future. The current behavior is equivalent to passing `weights=None`.\n",
      "  warnings.warn(msg)\n",
      "C:\\Users\\sherr\\Desktop\\MLANN\\imageAI\\env\\Lib\\site-packages\\torchvision\\models\\inception.py:43: FutureWarning: The default weight initialization of inception_v3 will be changed in future releases of torchvision. If you wish to keep the old behavior (which leads to long initialization times due to scipy/scipy#11299), please set init_weights=True.\n",
      "  warnings.warn(\n"
     ]
    },
    {
     "name": "stdout",
     "output_type": "stream",
     "text": [
      "boathouse : 97.1359\n",
      "mobile home : 0.6925\n",
      "lakeside : 0.5863\n",
      "beacon : 0.431\n",
      "dam : 0.1176\n"
     ]
    }
   ],
   "source": [
    "# image classification\n",
    "from imageai.Classification import ImageClassification\n",
    "import os\n",
    "\n",
    "exec_path = os.getcwd()\n",
    "\n",
    "prediction = ImageClassification()\n",
    "# MobileNetV2\n",
    "prediction.setModelTypeAsMobileNetV2()\n",
    "prediction.setModelPath(os.path.join(exec_path, 'mobilenet_v2-b0353104.pth'))\n",
    "prediction.loadModel()\n",
    "\n",
    "predctions, probabilities = prediction.classifyImage(os.path.join(exec_path,'house.jpg'), result_count=5)\n",
    "for eachPred, eachProb in zip(predctions, probabilities):\n",
    "    print(f'{eachPred} : {eachProb}')"
   ]
  },
  {
   "cell_type": "code",
   "execution_count": null,
   "id": "edf91231",
   "metadata": {},
   "outputs": [],
   "source": []
  }
 ],
 "metadata": {
  "kernelspec": {
   "display_name": "Python 3 (ipykernel)",
   "language": "python",
   "name": "python3"
  },
  "language_info": {
   "codemirror_mode": {
    "name": "ipython",
    "version": 3
   },
   "file_extension": ".py",
   "mimetype": "text/x-python",
   "name": "python",
   "nbconvert_exporter": "python",
   "pygments_lexer": "ipython3",
   "version": "3.11.5"
  }
 },
 "nbformat": 4,
 "nbformat_minor": 5
}
